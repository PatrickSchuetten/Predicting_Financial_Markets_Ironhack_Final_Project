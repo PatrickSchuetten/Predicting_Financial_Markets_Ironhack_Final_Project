{
 "cells": [
  {
   "cell_type": "code",
   "execution_count": 1,
   "id": "13b58712-70b1-4fb5-9cf4-d03af7c244c2",
   "metadata": {},
   "outputs": [],
   "source": [
    "import pandas as pd\n",
    "import numpy as np\n",
    "import mplfinance as mpf\n",
    "import yfinance as yf\n",
    "import pandas_ta as ta\n",
    "import seaborn as sns\n",
    "import matplotlib.pyplot as plt"
   ]
  },
  {
   "cell_type": "markdown",
   "id": "89e3bec9-adaa-4a68-91c0-45e167cd3bdd",
   "metadata": {
    "jp-MarkdownHeadingCollapsed": true
   },
   "source": [
    "# Import"
   ]
  },
  {
   "cell_type": "code",
   "execution_count": 2,
   "id": "f7b6563f-834c-4e56-9867-335308eb05f0",
   "metadata": {},
   "outputs": [
    {
     "name": "stderr",
     "output_type": "stream",
     "text": [
      "[*********************100%%**********************]  1 of 1 completed\n"
     ]
    }
   ],
   "source": [
    "data = yf.download(\"^GDAXI\", interval=\"1d\", start=\"2010-01-01\", end=\"2024-01-23\")"
   ]
  },
  {
   "cell_type": "code",
   "execution_count": 3,
   "id": "c13cea2b-3eac-4283-b5fe-e9dc97c66eff",
   "metadata": {},
   "outputs": [
    {
     "data": {
      "text/html": [
       "<div>\n",
       "<style scoped>\n",
       "    .dataframe tbody tr th:only-of-type {\n",
       "        vertical-align: middle;\n",
       "    }\n",
       "\n",
       "    .dataframe tbody tr th {\n",
       "        vertical-align: top;\n",
       "    }\n",
       "\n",
       "    .dataframe thead th {\n",
       "        text-align: right;\n",
       "    }\n",
       "</style>\n",
       "<table border=\"1\" class=\"dataframe\">\n",
       "  <thead>\n",
       "    <tr style=\"text-align: right;\">\n",
       "      <th></th>\n",
       "      <th>open</th>\n",
       "      <th>high</th>\n",
       "      <th>low</th>\n",
       "      <th>close</th>\n",
       "      <th>adj_close</th>\n",
       "      <th>volume</th>\n",
       "    </tr>\n",
       "    <tr>\n",
       "      <th>Date</th>\n",
       "      <th></th>\n",
       "      <th></th>\n",
       "      <th></th>\n",
       "      <th></th>\n",
       "      <th></th>\n",
       "      <th></th>\n",
       "    </tr>\n",
       "  </thead>\n",
       "  <tbody>\n",
       "    <tr>\n",
       "      <th>2010-01-04</th>\n",
       "      <td>5975.520020</td>\n",
       "      <td>6048.299805</td>\n",
       "      <td>5974.430176</td>\n",
       "      <td>6048.299805</td>\n",
       "      <td>6048.299805</td>\n",
       "      <td>104344400</td>\n",
       "    </tr>\n",
       "    <tr>\n",
       "      <th>2010-01-05</th>\n",
       "      <td>6043.939941</td>\n",
       "      <td>6058.020020</td>\n",
       "      <td>6015.669922</td>\n",
       "      <td>6031.859863</td>\n",
       "      <td>6031.859863</td>\n",
       "      <td>117572100</td>\n",
       "    </tr>\n",
       "    <tr>\n",
       "      <th>2010-01-06</th>\n",
       "      <td>6032.390137</td>\n",
       "      <td>6047.569824</td>\n",
       "      <td>5997.089844</td>\n",
       "      <td>6034.330078</td>\n",
       "      <td>6034.330078</td>\n",
       "      <td>108742400</td>\n",
       "    </tr>\n",
       "    <tr>\n",
       "      <th>2010-01-07</th>\n",
       "      <td>6016.799805</td>\n",
       "      <td>6037.569824</td>\n",
       "      <td>5961.250000</td>\n",
       "      <td>6019.359863</td>\n",
       "      <td>6019.359863</td>\n",
       "      <td>133704300</td>\n",
       "    </tr>\n",
       "    <tr>\n",
       "      <th>2010-01-08</th>\n",
       "      <td>6028.620117</td>\n",
       "      <td>6053.040039</td>\n",
       "      <td>5972.240234</td>\n",
       "      <td>6037.609863</td>\n",
       "      <td>6037.609863</td>\n",
       "      <td>126099000</td>\n",
       "    </tr>\n",
       "    <tr>\n",
       "      <th>...</th>\n",
       "      <td>...</td>\n",
       "      <td>...</td>\n",
       "      <td>...</td>\n",
       "      <td>...</td>\n",
       "      <td>...</td>\n",
       "      <td>...</td>\n",
       "    </tr>\n",
       "    <tr>\n",
       "      <th>2024-01-16</th>\n",
       "      <td>16497.539062</td>\n",
       "      <td>16581.929688</td>\n",
       "      <td>16476.089844</td>\n",
       "      <td>16571.679688</td>\n",
       "      <td>16571.679688</td>\n",
       "      <td>73101900</td>\n",
       "    </tr>\n",
       "    <tr>\n",
       "      <th>2024-01-17</th>\n",
       "      <td>16400.419922</td>\n",
       "      <td>16435.679688</td>\n",
       "      <td>16345.019531</td>\n",
       "      <td>16431.689453</td>\n",
       "      <td>16431.689453</td>\n",
       "      <td>71437800</td>\n",
       "    </tr>\n",
       "    <tr>\n",
       "      <th>2024-01-18</th>\n",
       "      <td>16440.660156</td>\n",
       "      <td>16579.119141</td>\n",
       "      <td>16421.199219</td>\n",
       "      <td>16567.349609</td>\n",
       "      <td>16567.349609</td>\n",
       "      <td>72318600</td>\n",
       "    </tr>\n",
       "    <tr>\n",
       "      <th>2024-01-19</th>\n",
       "      <td>16626.529297</td>\n",
       "      <td>16647.849609</td>\n",
       "      <td>16513.460938</td>\n",
       "      <td>16555.130859</td>\n",
       "      <td>16555.130859</td>\n",
       "      <td>66146800</td>\n",
       "    </tr>\n",
       "    <tr>\n",
       "      <th>2024-01-22</th>\n",
       "      <td>16684.099609</td>\n",
       "      <td>16705.490234</td>\n",
       "      <td>16607.720703</td>\n",
       "      <td>16683.359375</td>\n",
       "      <td>16683.359375</td>\n",
       "      <td>67438700</td>\n",
       "    </tr>\n",
       "  </tbody>\n",
       "</table>\n",
       "<p>3567 rows × 6 columns</p>\n",
       "</div>"
      ],
      "text/plain": [
       "                    open          high           low         close  \\\n",
       "Date                                                                 \n",
       "2010-01-04   5975.520020   6048.299805   5974.430176   6048.299805   \n",
       "2010-01-05   6043.939941   6058.020020   6015.669922   6031.859863   \n",
       "2010-01-06   6032.390137   6047.569824   5997.089844   6034.330078   \n",
       "2010-01-07   6016.799805   6037.569824   5961.250000   6019.359863   \n",
       "2010-01-08   6028.620117   6053.040039   5972.240234   6037.609863   \n",
       "...                  ...           ...           ...           ...   \n",
       "2024-01-16  16497.539062  16581.929688  16476.089844  16571.679688   \n",
       "2024-01-17  16400.419922  16435.679688  16345.019531  16431.689453   \n",
       "2024-01-18  16440.660156  16579.119141  16421.199219  16567.349609   \n",
       "2024-01-19  16626.529297  16647.849609  16513.460938  16555.130859   \n",
       "2024-01-22  16684.099609  16705.490234  16607.720703  16683.359375   \n",
       "\n",
       "               adj_close     volume  \n",
       "Date                                 \n",
       "2010-01-04   6048.299805  104344400  \n",
       "2010-01-05   6031.859863  117572100  \n",
       "2010-01-06   6034.330078  108742400  \n",
       "2010-01-07   6019.359863  133704300  \n",
       "2010-01-08   6037.609863  126099000  \n",
       "...                  ...        ...  \n",
       "2024-01-16  16571.679688   73101900  \n",
       "2024-01-17  16431.689453   71437800  \n",
       "2024-01-18  16567.349609   72318600  \n",
       "2024-01-19  16555.130859   66146800  \n",
       "2024-01-22  16683.359375   67438700  \n",
       "\n",
       "[3567 rows x 6 columns]"
      ]
     },
     "execution_count": 3,
     "metadata": {},
     "output_type": "execute_result"
    }
   ],
   "source": [
    "data.columns = ['open','high','low','close','adj_close','volume']\n",
    "data"
   ]
  },
  {
   "cell_type": "markdown",
   "id": "042e91e3-f8a7-4fdd-aa46-01f2ab3d2d7d",
   "metadata": {
    "jp-MarkdownHeadingCollapsed": true
   },
   "source": [
    "# Missing Values"
   ]
  },
  {
   "cell_type": "code",
   "execution_count": 4,
   "id": "a8be6e8d-46c8-4ef6-aa91-d7c79316fba4",
   "metadata": {},
   "outputs": [
    {
     "data": {
      "text/plain": [
       "open         0\n",
       "high         0\n",
       "low          0\n",
       "close        0\n",
       "adj_close    0\n",
       "volume       0\n",
       "dtype: int64"
      ]
     },
     "execution_count": 4,
     "metadata": {},
     "output_type": "execute_result"
    }
   ],
   "source": [
    "data.isna().sum()"
   ]
  },
  {
   "cell_type": "code",
   "execution_count": 5,
   "id": "ea18c42e-86b9-4819-9f1b-59e35ec82021",
   "metadata": {},
   "outputs": [
    {
     "data": {
      "text/plain": [
       "open         0\n",
       "high         0\n",
       "low          0\n",
       "close        0\n",
       "adj_close    0\n",
       "volume       9\n",
       "dtype: int64"
      ]
     },
     "execution_count": 5,
     "metadata": {},
     "output_type": "execute_result"
    }
   ],
   "source": [
    "zero = data==0\n",
    "zero.sum()"
   ]
  },
  {
   "cell_type": "code",
   "execution_count": 6,
   "id": "a4b0a8f4-2bdd-4f62-9a03-65ccf223fd16",
   "metadata": {},
   "outputs": [
    {
     "data": {
      "image/png": "[encoded data removed]",
      "text/plain": [
       "<Figure size 900x900 with 1 Axes>"
      ]
     },
     "metadata": {},
     "output_type": "display_data"
    }
   ],
   "source": [
    "fig, ax = plt.subplots(1,1, figsize=(3,3), dpi=300)\n",
    "sns.lineplot(data=data, x=data.index, y='volume')\n",
    "ax.set_ylabel(\"Count\") \n",
    "ax.set_xlabel(\"volume\") \n",
    "ax.set_title(\"Missing Values for Volume\") \n",
    "plt.xticks(rotation=45)#ticks=data.index[::2]\n",
    "plt.tight_layout()\n",
    "fig.set_facecolor('#FFFCF7')\n",
    "ax.set_facecolor('#FFFCF7')\n",
    "#plt.savefig(\"../plots/missing_values_in_vol_before_2000.png\")"
   ]
  },
  {
   "cell_type": "markdown",
   "id": "ad126575-52e4-46b0-bcd2-030aa04e510b",
   "metadata": {
    "jp-MarkdownHeadingCollapsed": true
   },
   "source": [
    "# Calculating Direction"
   ]
  },
  {
   "cell_type": "code",
   "execution_count": 7,
   "id": "b8e605e6-e73b-4888-a9e3-3d4977abe368",
   "metadata": {},
   "outputs": [
    {
     "data": {
      "text/html": [
       "<div>\n",
       "<style scoped>\n",
       "    .dataframe tbody tr th:only-of-type {\n",
       "        vertical-align: middle;\n",
       "    }\n",
       "\n",
       "    .dataframe tbody tr th {\n",
       "        vertical-align: top;\n",
       "    }\n",
       "\n",
       "    .dataframe thead th {\n",
       "        text-align: right;\n",
       "    }\n",
       "</style>\n",
       "<table border=\"1\" class=\"dataframe\">\n",
       "  <thead>\n",
       "    <tr style=\"text-align: right;\">\n",
       "      <th></th>\n",
       "      <th>open</th>\n",
       "      <th>high</th>\n",
       "      <th>low</th>\n",
       "      <th>close</th>\n",
       "      <th>adj_close</th>\n",
       "      <th>volume</th>\n",
       "      <th>direction_num</th>\n",
       "      <th>direction</th>\n",
       "    </tr>\n",
       "    <tr>\n",
       "      <th>Date</th>\n",
       "      <th></th>\n",
       "      <th></th>\n",
       "      <th></th>\n",
       "      <th></th>\n",
       "      <th></th>\n",
       "      <th></th>\n",
       "      <th></th>\n",
       "      <th></th>\n",
       "    </tr>\n",
       "  </thead>\n",
       "  <tbody>\n",
       "    <tr>\n",
       "      <th>2010-01-04</th>\n",
       "      <td>5975.520020</td>\n",
       "      <td>6048.299805</td>\n",
       "      <td>5974.430176</td>\n",
       "      <td>6048.299805</td>\n",
       "      <td>6048.299805</td>\n",
       "      <td>104344400</td>\n",
       "      <td>72.779785</td>\n",
       "      <td>1</td>\n",
       "    </tr>\n",
       "    <tr>\n",
       "      <th>2010-01-05</th>\n",
       "      <td>6043.939941</td>\n",
       "      <td>6058.020020</td>\n",
       "      <td>6015.669922</td>\n",
       "      <td>6031.859863</td>\n",
       "      <td>6031.859863</td>\n",
       "      <td>117572100</td>\n",
       "      <td>-12.080078</td>\n",
       "      <td>0</td>\n",
       "    </tr>\n",
       "    <tr>\n",
       "      <th>2010-01-06</th>\n",
       "      <td>6032.390137</td>\n",
       "      <td>6047.569824</td>\n",
       "      <td>5997.089844</td>\n",
       "      <td>6034.330078</td>\n",
       "      <td>6034.330078</td>\n",
       "      <td>108742400</td>\n",
       "      <td>1.939941</td>\n",
       "      <td>1</td>\n",
       "    </tr>\n",
       "    <tr>\n",
       "      <th>2010-01-07</th>\n",
       "      <td>6016.799805</td>\n",
       "      <td>6037.569824</td>\n",
       "      <td>5961.250000</td>\n",
       "      <td>6019.359863</td>\n",
       "      <td>6019.359863</td>\n",
       "      <td>133704300</td>\n",
       "      <td>2.560059</td>\n",
       "      <td>1</td>\n",
       "    </tr>\n",
       "    <tr>\n",
       "      <th>2010-01-08</th>\n",
       "      <td>6028.620117</td>\n",
       "      <td>6053.040039</td>\n",
       "      <td>5972.240234</td>\n",
       "      <td>6037.609863</td>\n",
       "      <td>6037.609863</td>\n",
       "      <td>126099000</td>\n",
       "      <td>8.989746</td>\n",
       "      <td>1</td>\n",
       "    </tr>\n",
       "  </tbody>\n",
       "</table>\n",
       "</div>"
      ],
      "text/plain": [
       "                   open         high          low        close    adj_close  \\\n",
       "Date                                                                          \n",
       "2010-01-04  5975.520020  6048.299805  5974.430176  6048.299805  6048.299805   \n",
       "2010-01-05  6043.939941  6058.020020  6015.669922  6031.859863  6031.859863   \n",
       "2010-01-06  6032.390137  6047.569824  5997.089844  6034.330078  6034.330078   \n",
       "2010-01-07  6016.799805  6037.569824  5961.250000  6019.359863  6019.359863   \n",
       "2010-01-08  6028.620117  6053.040039  5972.240234  6037.609863  6037.609863   \n",
       "\n",
       "               volume  direction_num  direction  \n",
       "Date                                             \n",
       "2010-01-04  104344400      72.779785          1  \n",
       "2010-01-05  117572100     -12.080078          0  \n",
       "2010-01-06  108742400       1.939941          1  \n",
       "2010-01-07  133704300       2.560059          1  \n",
       "2010-01-08  126099000       8.989746          1  "
      ]
     },
     "execution_count": 7,
     "metadata": {},
     "output_type": "execute_result"
    }
   ],
   "source": [
    "data['direction_num'] = data['close'] - data['open']\n",
    "data['direction'] = [1 if value > 0 else 0 for value in data['direction_num']]\n",
    "data.head()"
   ]
  },
  {
   "cell_type": "markdown",
   "id": "55eb696e-0e16-4e77-958a-8611f6da7bf7",
   "metadata": {
    "jp-MarkdownHeadingCollapsed": true
   },
   "source": [
    "# Checking Adj Close difference"
   ]
  },
  {
   "cell_type": "code",
   "execution_count": 8,
   "id": "51d22846-4328-48ad-97cc-5e1868bc1082",
   "metadata": {},
   "outputs": [
    {
     "data": {
      "text/plain": [
       "adj_diff\n",
       "0.0    3567\n",
       "Name: count, dtype: int64"
      ]
     },
     "execution_count": 8,
     "metadata": {},
     "output_type": "execute_result"
    }
   ],
   "source": [
    "data['adj_diff'] = data['adj_close'] - data['close']\n",
    "data['adj_diff'].value_counts() "
   ]
  },
  {
   "cell_type": "markdown",
   "id": "f411eb97-8d8a-41eb-aba6-4ff23600a661",
   "metadata": {},
   "source": [
    "##### diff is 0 in every row. Therefore I can drop the column \"adj_close\" because its has the same Information is in column \"close\""
   ]
  },
  {
   "cell_type": "code",
   "execution_count": 9,
   "id": "916a6c96-92e7-4bef-a08b-e827f0f07f50",
   "metadata": {},
   "outputs": [
    {
     "data": {
      "text/html": [
       "<div>\n",
       "<style scoped>\n",
       "    .dataframe tbody tr th:only-of-type {\n",
       "        vertical-align: middle;\n",
       "    }\n",
       "\n",
       "    .dataframe tbody tr th {\n",
       "        vertical-align: top;\n",
       "    }\n",
       "\n",
       "    .dataframe thead th {\n",
       "        text-align: right;\n",
       "    }\n",
       "</style>\n",
       "<table border=\"1\" class=\"dataframe\">\n",
       "  <thead>\n",
       "    <tr style=\"text-align: right;\">\n",
       "      <th></th>\n",
       "      <th>open</th>\n",
       "      <th>high</th>\n",
       "      <th>low</th>\n",
       "      <th>close</th>\n",
       "      <th>adj_close</th>\n",
       "      <th>volume</th>\n",
       "      <th>direction_num</th>\n",
       "      <th>direction</th>\n",
       "      <th>adj_diff</th>\n",
       "    </tr>\n",
       "    <tr>\n",
       "      <th>Date</th>\n",
       "      <th></th>\n",
       "      <th></th>\n",
       "      <th></th>\n",
       "      <th></th>\n",
       "      <th></th>\n",
       "      <th></th>\n",
       "      <th></th>\n",
       "      <th></th>\n",
       "      <th></th>\n",
       "    </tr>\n",
       "  </thead>\n",
       "  <tbody>\n",
       "    <tr>\n",
       "      <th>2010-01-04</th>\n",
       "      <td>5975.520020</td>\n",
       "      <td>6048.299805</td>\n",
       "      <td>5974.430176</td>\n",
       "      <td>6048.299805</td>\n",
       "      <td>6048.299805</td>\n",
       "      <td>104344400</td>\n",
       "      <td>72.779785</td>\n",
       "      <td>1</td>\n",
       "      <td>0.0</td>\n",
       "    </tr>\n",
       "    <tr>\n",
       "      <th>2010-01-05</th>\n",
       "      <td>6043.939941</td>\n",
       "      <td>6058.020020</td>\n",
       "      <td>6015.669922</td>\n",
       "      <td>6031.859863</td>\n",
       "      <td>6031.859863</td>\n",
       "      <td>117572100</td>\n",
       "      <td>-12.080078</td>\n",
       "      <td>0</td>\n",
       "      <td>0.0</td>\n",
       "    </tr>\n",
       "    <tr>\n",
       "      <th>2010-01-06</th>\n",
       "      <td>6032.390137</td>\n",
       "      <td>6047.569824</td>\n",
       "      <td>5997.089844</td>\n",
       "      <td>6034.330078</td>\n",
       "      <td>6034.330078</td>\n",
       "      <td>108742400</td>\n",
       "      <td>1.939941</td>\n",
       "      <td>1</td>\n",
       "      <td>0.0</td>\n",
       "    </tr>\n",
       "    <tr>\n",
       "      <th>2010-01-07</th>\n",
       "      <td>6016.799805</td>\n",
       "      <td>6037.569824</td>\n",
       "      <td>5961.250000</td>\n",
       "      <td>6019.359863</td>\n",
       "      <td>6019.359863</td>\n",
       "      <td>133704300</td>\n",
       "      <td>2.560059</td>\n",
       "      <td>1</td>\n",
       "      <td>0.0</td>\n",
       "    </tr>\n",
       "    <tr>\n",
       "      <th>2010-01-08</th>\n",
       "      <td>6028.620117</td>\n",
       "      <td>6053.040039</td>\n",
       "      <td>5972.240234</td>\n",
       "      <td>6037.609863</td>\n",
       "      <td>6037.609863</td>\n",
       "      <td>126099000</td>\n",
       "      <td>8.989746</td>\n",
       "      <td>1</td>\n",
       "      <td>0.0</td>\n",
       "    </tr>\n",
       "  </tbody>\n",
       "</table>\n",
       "</div>"
      ],
      "text/plain": [
       "                   open         high          low        close    adj_close  \\\n",
       "Date                                                                          \n",
       "2010-01-04  5975.520020  6048.299805  5974.430176  6048.299805  6048.299805   \n",
       "2010-01-05  6043.939941  6058.020020  6015.669922  6031.859863  6031.859863   \n",
       "2010-01-06  6032.390137  6047.569824  5997.089844  6034.330078  6034.330078   \n",
       "2010-01-07  6016.799805  6037.569824  5961.250000  6019.359863  6019.359863   \n",
       "2010-01-08  6028.620117  6053.040039  5972.240234  6037.609863  6037.609863   \n",
       "\n",
       "               volume  direction_num  direction  adj_diff  \n",
       "Date                                                       \n",
       "2010-01-04  104344400      72.779785          1       0.0  \n",
       "2010-01-05  117572100     -12.080078          0       0.0  \n",
       "2010-01-06  108742400       1.939941          1       0.0  \n",
       "2010-01-07  133704300       2.560059          1       0.0  \n",
       "2010-01-08  126099000       8.989746          1       0.0  "
      ]
     },
     "execution_count": 9,
     "metadata": {},
     "output_type": "execute_result"
    }
   ],
   "source": [
    "#data.drop(['adj_close','adj_diff'], axis=1, inplace=True)\n",
    "data.head()"
   ]
  },
  {
   "cell_type": "markdown",
   "id": "a30d6872-a4c5-4f54-8850-c74093110124",
   "metadata": {},
   "source": [
    "# Calc Indicators"
   ]
  },
  {
   "cell_type": "code",
   "execution_count": 10,
   "id": "9b38f02c-0cce-4fb0-949c-b3ec4bda8a81",
   "metadata": {},
   "outputs": [],
   "source": [
    "l_low = 3\n",
    "l_mid = 7\n",
    "l_high = 14\n",
    "offset = 1\n",
    "#SMA\n",
    "data[f'sma_{l_low}']=data.ta.sma(length=l_low, offset=offset)\n",
    "data[f'sma_{l_mid}']=data.ta.sma(length=l_mid, offset=offset)\n",
    "data[f'sma_{l_high}']=data.ta.sma(length=l_high, offset=offset)\n",
    "#EMA\n",
    "data[f'ema_{l_low}']=data.ta.ema(length=l_low, offset=offset)\n",
    "data[f'ema_{l_mid}']=data.ta.ema(length=l_mid, offset=offset)\n",
    "data[f'ema_{l_high}']=data.ta.ema(length=l_high, offset=offset)\n",
    "#MACD\n",
    "data[['MACD_12_26_9','MACDh_12_26_9','MACDs_12_26_9']] = data.ta.macd(offset=offset)\n",
    "#RSI\n",
    "data[f'rsi_{l_low}']=data.ta.rsi(length=l_low, offset=offset)\n",
    "data[f'rsi_{l_mid}']=data.ta.rsi(length=l_mid, offset=offset)\n",
    "data[f'rsi_{l_high}']=data.ta.rsi(length=l_high, offset=offset)\n",
    "#BBANDS\n",
    "data[[f'BBL_{l_low}_2.0',f'BBM_{l_low}_2.0',f'BBU_{l_low}_2.0',f'BBB_{l_low}_2.0',f'BBP_{l_low}_2.0']] = data.ta.bbands(length=l_low, offset=offset)\n",
    "data[[f'BBL_{l_mid}_2.0',f'BBM_{l_mid}_2.0',f'BBU_{l_mid}_2.0',f'BBB_{l_mid}_2.0',f'BBP_{l_mid}_2.0']] = data.ta.bbands(length=l_mid, offset=offset)\n",
    "data[[f'BBL_{l_high}_2.0',f'BBM_{l_high}_2.0',f'BBU_{l_high}_2.0',f'BBB_{l_high}_2.0',f'BBP_{l_high}_2.0']] = data.ta.bbands(length=l_high, offset=offset)\n",
    "#STOCH\n",
    "data[['STOCHk_14_3_3','STOCHd_14_3_3']] = data.ta.stoch(offset=offset)\n",
    "#ATR\n",
    "data[f'atr_{l_low}']=data.ta.atr(length=l_low, offset=offset)\n",
    "data[f'atr_{l_mid}']=data.ta.atr(length=l_mid, offset=offset)\n",
    "data[f'atr_{l_high}']=data.ta.atr(length=l_high, offset=offset)\n",
    "#psar\n",
    "data[['PSARl_0.02_0.2','PSARs_0.02_0.2','PSARaf_0.02_0.2','PSARr_0.02_0.2']] = data.ta.psar(l_low, offset=offset)\n",
    "#cmf\n",
    "data[f'cmf_{l_low}']=data.ta.cmf(length=l_low, offset=offset)\n",
    "data[f'cmf_{l_mid}']=data.ta.cmf(length=l_mid, offset=offset)\n",
    "data[f'cmf_{l_high}']=data.ta.cmf(length=l_high, offset=offset)\n",
    "#adx\n",
    "data[[f'ADX_{l_low}',f'DMP_{l_low}',f'DMN_{l_low}']] = data.ta.macd(length=l_low, offset=offset)\n",
    "data[[f'ADX_{l_mid}',f'DMP_{l_mid}',f'DMN_{l_mid}']] = data.ta.macd(length=l_mid, offset=offset)\n",
    "data[[f'ADX_{l_high}',f'DMP_{l_high}',f'DMN_{l_high}']] = data.ta.macd(length=l_high, offset=offset)"
   ]
  },
  {
   "cell_type": "code",
   "execution_count": 11,
   "id": "e3ee60bf-3897-473f-ac60-201bad53e16d",
   "metadata": {},
   "outputs": [],
   "source": [
    "#data.head()"
   ]
  },
  {
   "cell_type": "markdown",
   "id": "ef32e043-726a-41bb-8ba2-63564872589b",
   "metadata": {
    "jp-MarkdownHeadingCollapsed": true
   },
   "source": [
    "# Dropping NaNs"
   ]
  },
  {
   "cell_type": "code",
   "execution_count": 12,
   "id": "18e43ac1-c087-4a31-bc9c-d217c85a1ac3",
   "metadata": {},
   "outputs": [
    {
     "data": {
      "text/plain": [
       "open                  0\n",
       "high                  0\n",
       "low                   0\n",
       "close                 0\n",
       "adj_close             0\n",
       "volume                0\n",
       "direction_num         0\n",
       "direction             0\n",
       "adj_diff              0\n",
       "sma_3                 3\n",
       "sma_7                 7\n",
       "sma_14               14\n",
       "ema_3                 3\n",
       "ema_7                 7\n",
       "ema_14               14\n",
       "MACD_12_26_9         26\n",
       "MACDh_12_26_9        34\n",
       "MACDs_12_26_9        34\n",
       "rsi_3                 4\n",
       "rsi_7                 8\n",
       "rsi_14               15\n",
       "BBL_3_2.0             3\n",
       "BBM_3_2.0             3\n",
       "BBU_3_2.0             3\n",
       "BBB_3_2.0             3\n",
       "BBP_3_2.0             4\n",
       "BBL_7_2.0             7\n",
       "BBM_7_2.0             7\n",
       "BBU_7_2.0             7\n",
       "BBB_7_2.0             7\n",
       "BBP_7_2.0             8\n",
       "BBL_14_2.0           14\n",
       "BBM_14_2.0           14\n",
       "BBU_14_2.0           14\n",
       "BBB_14_2.0           14\n",
       "BBP_14_2.0           15\n",
       "STOCHk_14_3_3        16\n",
       "STOCHd_14_3_3        18\n",
       "atr_3                 4\n",
       "atr_7                 8\n",
       "atr_14               15\n",
       "PSARl_0.02_0.2     1787\n",
       "PSARs_0.02_0.2     1782\n",
       "PSARaf_0.02_0.2       1\n",
       "PSARr_0.02_0.2        1\n",
       "cmf_3                 3\n",
       "cmf_7                 7\n",
       "cmf_14               14\n",
       "ADX_3                26\n",
       "DMP_3                34\n",
       "DMN_3                34\n",
       "ADX_7                26\n",
       "DMP_7                34\n",
       "DMN_7                34\n",
       "ADX_14               26\n",
       "DMP_14               34\n",
       "DMN_14               34\n",
       "dtype: int64"
      ]
     },
     "execution_count": 12,
     "metadata": {},
     "output_type": "execute_result"
    }
   ],
   "source": [
    "data.isna().sum()"
   ]
  },
  {
   "cell_type": "code",
   "execution_count": 13,
   "id": "c362b299-4320-4c3d-8007-f86f8fd3fdb8",
   "metadata": {},
   "outputs": [],
   "source": [
    "data.drop(['PSARl_0.02_0.2','PSARs_0.02_0.2'],axis=1, inplace=True)"
   ]
  },
  {
   "cell_type": "code",
   "execution_count": 14,
   "id": "5008377a-3294-4ec9-9336-1e5804251933",
   "metadata": {},
   "outputs": [],
   "source": [
    "data.dropna(inplace=True)"
   ]
  },
  {
   "cell_type": "code",
   "execution_count": 15,
   "id": "408d1237-aeb1-4a06-9d2b-657247f0ddc0",
   "metadata": {},
   "outputs": [
    {
     "data": {
      "text/plain": [
       "(3533, 54)"
      ]
     },
     "execution_count": 15,
     "metadata": {},
     "output_type": "execute_result"
    }
   ],
   "source": [
    "#dropping every columns which has only one single value\n",
    "list_of_col_zero=[]\n",
    "for col in data.columns:\n",
    "    if data[col].nunique()==1:\n",
    "        list_of_col_zero.append(col)\n",
    "data.drop(list_of_col_zero, axis=1, inplace=True)   \n",
    "data.shape"
   ]
  },
  {
   "cell_type": "markdown",
   "id": "cea962f1-3826-454e-8785-d3f2fae51b4f",
   "metadata": {
    "jp-MarkdownHeadingCollapsed": true
   },
   "source": [
    "# Convert to catergorical columns"
   ]
  },
  {
   "cell_type": "code",
   "execution_count": 16,
   "id": "7d7e6802-14b8-4ecd-aa1e-93c048cca617",
   "metadata": {},
   "outputs": [
    {
     "data": {
      "text/plain": [
       "['sma_3',\n",
       " 'sma_7',\n",
       " 'sma_14',\n",
       " 'ema_3',\n",
       " 'ema_7',\n",
       " 'ema_14',\n",
       " 'BBL_3_2.0',\n",
       " 'BBM_3_2.0',\n",
       " 'BBU_3_2.0',\n",
       " 'BBP_3_2.0',\n",
       " 'BBL_7_2.0',\n",
       " 'BBM_7_2.0',\n",
       " 'BBU_7_2.0',\n",
       " 'BBP_7_2.0',\n",
       " 'BBL_14_2.0',\n",
       " 'BBM_14_2.0',\n",
       " 'BBU_14_2.0',\n",
       " 'BBP_14_2.0']"
      ]
     },
     "execution_count": 16,
     "metadata": {},
     "output_type": "execute_result"
    }
   ],
   "source": [
    "list_of_col_to_convert=[f'sma_{l_low}',f'sma_{l_mid}',f'sma_{l_high}',\n",
    "                        f'ema_{l_low}',f'ema_{l_mid}',f'ema_{l_high}',\n",
    "                        f'BBL_{l_low}_2.0',f'BBM_{l_low}_2.0',f'BBU_{l_low}_2.0',f'BBP_{l_low}_2.0',\n",
    "                        f'BBL_{l_mid}_2.0',f'BBM_{l_mid}_2.0',f'BBU_{l_mid}_2.0',f'BBP_{l_mid}_2.0',\n",
    "                        f'BBL_{l_high}_2.0',f'BBM_{l_high}_2.0',f'BBU_{l_high}_2.0',f'BBP_{l_high}_2.0',\n",
    "                        ]\n",
    "list_of_col_to_convert"
   ]
  },
  {
   "cell_type": "code",
   "execution_count": 17,
   "id": "0e7b30c5-de96-4a32-b480-9d12892571d1",
   "metadata": {},
   "outputs": [],
   "source": [
    "threshold = 'open'\n",
    "for col in list_of_col_to_convert:\n",
    "    data['pos_{}'.format(col)] = np.where(data[col] > data[threshold], 1, 0)"
   ]
  },
  {
   "cell_type": "code",
   "execution_count": 18,
   "id": "5d9b3c81-39fc-4d13-bff6-98e6dd1b57a8",
   "metadata": {},
   "outputs": [
    {
     "data": {
      "text/plain": [
       "Index(['open', 'high', 'low', 'close', 'adj_close', 'volume', 'direction_num',\n",
       "       'direction', 'sma_3', 'sma_7', 'sma_14', 'ema_3', 'ema_7', 'ema_14',\n",
       "       'MACD_12_26_9', 'MACDh_12_26_9', 'MACDs_12_26_9', 'rsi_3', 'rsi_7',\n",
       "       'rsi_14', 'BBL_3_2.0', 'BBM_3_2.0', 'BBU_3_2.0', 'BBB_3_2.0',\n",
       "       'BBP_3_2.0', 'BBL_7_2.0', 'BBM_7_2.0', 'BBU_7_2.0', 'BBB_7_2.0',\n",
       "       'BBP_7_2.0', 'BBL_14_2.0', 'BBM_14_2.0', 'BBU_14_2.0', 'BBB_14_2.0',\n",
       "       'BBP_14_2.0', 'STOCHk_14_3_3', 'STOCHd_14_3_3', 'atr_3', 'atr_7',\n",
       "       'atr_14', 'PSARaf_0.02_0.2', 'PSARr_0.02_0.2', 'cmf_3', 'cmf_7',\n",
       "       'cmf_14', 'ADX_3', 'DMP_3', 'DMN_3', 'ADX_7', 'DMP_7', 'DMN_7',\n",
       "       'ADX_14', 'DMP_14', 'DMN_14', 'pos_sma_3', 'pos_sma_7', 'pos_sma_14',\n",
       "       'pos_ema_3', 'pos_ema_7', 'pos_ema_14', 'pos_BBL_3_2.0',\n",
       "       'pos_BBM_3_2.0', 'pos_BBU_3_2.0', 'pos_BBP_3_2.0', 'pos_BBL_7_2.0',\n",
       "       'pos_BBM_7_2.0', 'pos_BBU_7_2.0', 'pos_BBP_7_2.0', 'pos_BBL_14_2.0',\n",
       "       'pos_BBM_14_2.0', 'pos_BBU_14_2.0', 'pos_BBP_14_2.0'],\n",
       "      dtype='object')"
      ]
     },
     "execution_count": 18,
     "metadata": {},
     "output_type": "execute_result"
    }
   ],
   "source": [
    "data.columns"
   ]
  },
  {
   "cell_type": "markdown",
   "id": "0180957e-a15b-408d-b834-1fccb128ed1e",
   "metadata": {
    "jp-MarkdownHeadingCollapsed": true
   },
   "source": [
    "# Dropping the OHLC-Prices"
   ]
  },
  {
   "cell_type": "code",
   "execution_count": 19,
   "id": "483efeb8-457c-499b-a851-3a2bd6400b6b",
   "metadata": {},
   "outputs": [],
   "source": [
    "data.drop(['open','high','low','close','adj_close'], axis=1, inplace=True)"
   ]
  },
  {
   "cell_type": "markdown",
   "id": "d1d1cdec-57d1-4634-84ee-6ffb084b327f",
   "metadata": {
    "jp-MarkdownHeadingCollapsed": true
   },
   "source": [
    "# Automated features selection"
   ]
  },
  {
   "cell_type": "code",
   "execution_count": 20,
   "id": "eaea4367-e5b3-42b2-9f1c-a67f5d770a8f",
   "metadata": {},
   "outputs": [
    {
     "name": "stdout",
     "output_type": "stream",
     "text": [
      "(3533, 67)\n",
      "(3533, 62)\n"
     ]
    }
   ],
   "source": [
    "#another way instead of drop the zeros would be this:\n",
    "from sklearn.feature_selection import VarianceThreshold\n",
    "\n",
    "var_threshold = 0.02\n",
    "# sel = VarianceThreshold() has a default value for variance = 0.00\n",
    "sel = VarianceThreshold(threshold=(var_threshold))\n",
    "\n",
    "# 1) default is threshold = 0 :eliminate all columns that are identical for all rows\n",
    "# 2) in practice we would scale the columns first, and then apply threshold, or apply\n",
    "#    a different threshold for different columns\n",
    "\n",
    "# This determines which columns that have a variance less than this threshold\n",
    "sel = sel.fit(data)\n",
    "temp = sel.transform(data)\n",
    "temp_df = pd.DataFrame(temp, columns=sel.get_feature_names_out())\n",
    "print(data.shape)\n",
    "print(temp_df.shape)"
   ]
  },
  {
   "cell_type": "code",
   "execution_count": 21,
   "id": "6a8c76e8-4f6a-4124-8659-3d6e541b8f0d",
   "metadata": {},
   "outputs": [
    {
     "data": {
      "text/plain": [
       "(3533, 62)"
      ]
     },
     "execution_count": 21,
     "metadata": {},
     "output_type": "execute_result"
    }
   ],
   "source": [
    "#dropping the columns with var_threshold\n",
    "data = data[sel.get_feature_names_out().tolist()]\n",
    "data.shape"
   ]
  },
  {
   "cell_type": "markdown",
   "id": "af7c2e56-5892-4c6a-a0cb-1eb4cd1e49d0",
   "metadata": {
    "jp-MarkdownHeadingCollapsed": true
   },
   "source": [
    "# EDA"
   ]
  },
  {
   "cell_type": "code",
   "execution_count": 22,
   "id": "49e84956-a870-4111-abb1-6e75c16a1bf2",
   "metadata": {},
   "outputs": [
    {
     "data": {
      "text/plain": [
       "62"
      ]
     },
     "execution_count": 22,
     "metadata": {},
     "output_type": "execute_result"
    }
   ],
   "source": [
    "len(data.columns.tolist())"
   ]
  },
  {
   "cell_type": "code",
   "execution_count": 23,
   "id": "d1ea57f7-ad4d-4c18-90d9-f84686f238b3",
   "metadata": {},
   "outputs": [
    {
     "data": {
      "text/plain": [
       "'\\nn = len(data.columns.tolist())\\ni = 0\\nfig, ax = plt.subplots(n,1, figsize=(10,n+10), dpi=300)\\nfor col in data.columns:\\n    sns.histplot(data=data, x=col, ax=ax[i])\\n    ax[i].set_ylabel(\"Count\") \\n    ax[i].set_xlabel(col) \\n    i += 1\\n#plt.xticks(rotation=45)#ticks=data.index[::2]\\nplt.tight_layout()\\nplt.show()\\nplt.rcParams'"
      ]
     },
     "execution_count": 23,
     "metadata": {},
     "output_type": "execute_result"
    }
   ],
   "source": [
    "'''\n",
    "n = len(data.columns.tolist())\n",
    "i = 0\n",
    "fig, ax = plt.subplots(n,1, figsize=(10,n+10), dpi=300)\n",
    "for col in data.columns:\n",
    "    sns.histplot(data=data, x=col, ax=ax[i])\n",
    "    ax[i].set_ylabel(\"Count\") \n",
    "    ax[i].set_xlabel(col) \n",
    "    i += 1\n",
    "#plt.xticks(rotation=45)#ticks=data.index[::2]\n",
    "plt.tight_layout()\n",
    "plt.show()\n",
    "plt.rcParams'''"
   ]
  },
  {
   "cell_type": "markdown",
   "id": "26459031-6777-459f-b17d-c3e857607f17",
   "metadata": {
    "jp-MarkdownHeadingCollapsed": true
   },
   "source": [
    "# Corrolation Matrix"
   ]
  },
  {
   "cell_type": "code",
   "execution_count": 24,
   "id": "13f1faa9-cb74-43ac-baee-e70bc403f738",
   "metadata": {},
   "outputs": [
    {
     "data": {
      "text/plain": [
       "'correlations_matrix = data.corr()\\ncorrelation_with_target = correlations_matrix[\\'direction\\'].sort_values(ascending=False)\\nfig, ax = plt.subplots(1,1, figsize=(50,50), dpi=300)\\nsns.heatmap(correlations_matrix, annot=True)\\nplt.tight_layout()\\nplt.show()\\nplt.savefig(\"../plots/Heatmap.png\")'"
      ]
     },
     "execution_count": 24,
     "metadata": {},
     "output_type": "execute_result"
    }
   ],
   "source": [
    "'''correlations_matrix = data.corr()\n",
    "correlation_with_target = correlations_matrix['direction'].sort_values(ascending=False)\n",
    "fig, ax = plt.subplots(1,1, figsize=(50,50), dpi=300)\n",
    "sns.heatmap(correlations_matrix, annot=True)\n",
    "plt.tight_layout()\n",
    "plt.show()\n",
    "plt.savefig(\"../plots/Heatmap.png\")'''"
   ]
  },
  {
   "cell_type": "code",
   "execution_count": 25,
   "id": "6c3180b5-8e60-40f1-84cd-63d83df215c7",
   "metadata": {},
   "outputs": [],
   "source": [
    "def select_features_based_on_multicorrelation(df: pd.DataFrame, threshold=0.99) -> list:\n",
    "    '''\n",
    "\n",
    "    '''\n",
    "    list_of_selected_columns = []\n",
    "    corrmatrix = data.corr()\n",
    "    for key, value in corrmatrix[corrmatrix > threshold].count().items():\n",
    "        if value > 2:\n",
    "            list_of_selected_columns.append(key)\n",
    "    \n",
    "    return list_of_selected_columns"
   ]
  },
  {
   "cell_type": "code",
   "execution_count": 26,
   "id": "93fab323-e7eb-46ca-8dd8-67fac4fa6825",
   "metadata": {},
   "outputs": [
    {
     "data": {
      "text/plain": [
       "['sma_3',\n",
       " 'sma_7',\n",
       " 'sma_14',\n",
       " 'ema_3',\n",
       " 'ema_7',\n",
       " 'ema_14',\n",
       " 'MACD_12_26_9',\n",
       " 'MACDh_12_26_9',\n",
       " 'MACDs_12_26_9',\n",
       " 'BBL_3_2.0',\n",
       " 'BBM_3_2.0',\n",
       " 'BBU_3_2.0',\n",
       " 'BBL_7_2.0',\n",
       " 'BBM_7_2.0',\n",
       " 'BBU_7_2.0',\n",
       " 'BBL_14_2.0',\n",
       " 'BBM_14_2.0',\n",
       " 'BBU_14_2.0',\n",
       " 'ADX_3',\n",
       " 'DMP_3',\n",
       " 'DMN_3',\n",
       " 'ADX_7',\n",
       " 'DMP_7',\n",
       " 'DMN_7',\n",
       " 'ADX_14',\n",
       " 'DMP_14',\n",
       " 'DMN_14']"
      ]
     },
     "execution_count": 26,
     "metadata": {},
     "output_type": "execute_result"
    }
   ],
   "source": [
    "select_features_based_on_multicorrelation(data)"
   ]
  },
  {
   "cell_type": "code",
   "execution_count": 27,
   "id": "d9612855-f32e-42c8-a4f9-3e68e67cc094",
   "metadata": {},
   "outputs": [],
   "source": [
    "list_to_drop = ['sma_3',\n",
    " 'sma_7',\n",
    " 'sma_14',\n",
    " 'ema_3',\n",
    " 'ema_7',\n",
    " 'ema_14',\n",
    " 'BBL_3_2.0',\n",
    " 'BBM_3_2.0',\n",
    " 'BBU_3_2.0',\n",
    " 'BBL_7_2.0',\n",
    " 'BBM_7_2.0',\n",
    " 'BBU_7_2.0',\n",
    " 'BBL_14_2.0',\n",
    " 'BBM_14_2.0',\n",
    " 'BBU_14_2.0',\n",
    " 'MACD_12_26_9',\n",
    " 'MACDh_12_26_9',\n",
    " 'MACDs_12_26_9']\n",
    "#data.drop(list_to_drop, axis=1, inplace=True)"
   ]
  },
  {
   "cell_type": "code",
   "execution_count": 28,
   "id": "5d03a49a-3d29-4dea-80bb-0e1633daf59c",
   "metadata": {},
   "outputs": [
    {
     "data": {
      "text/plain": [
       "'correlations_matrix = data.corr()\\nfig, ax = plt.subplots(1,1, figsize=(50,50), dpi=300)\\nsns.heatmap(correlations_matrix, annot=True)\\nplt.tight_layout()\\nplt.show()\\nplt.savefig(\"../plots/Heatmap.png\")'"
      ]
     },
     "execution_count": 28,
     "metadata": {},
     "output_type": "execute_result"
    }
   ],
   "source": [
    "'''correlations_matrix = data.corr()\n",
    "fig, ax = plt.subplots(1,1, figsize=(50,50), dpi=300)\n",
    "sns.heatmap(correlations_matrix, annot=True)\n",
    "plt.tight_layout()\n",
    "plt.show()\n",
    "plt.savefig(\"../plots/Heatmap.png\")'''"
   ]
  },
  {
   "cell_type": "code",
   "execution_count": 29,
   "id": "3a6cccaa-9aa1-49b7-a71b-2cd0c68288ac",
   "metadata": {},
   "outputs": [
    {
     "data": {
      "text/plain": [
       "\"correlation_with_target =abs(correlations_matrix['direction']).sort_values(ascending=False)\\nround(correlation_with_target,3)\""
      ]
     },
     "execution_count": 29,
     "metadata": {},
     "output_type": "execute_result"
    }
   ],
   "source": [
    "'''correlation_with_target =abs(correlations_matrix['direction']).sort_values(ascending=False)\n",
    "round(correlation_with_target,3)'''"
   ]
  },
  {
   "cell_type": "markdown",
   "id": "4822de80-32d0-4cf4-9fbe-883d412b1ad8",
   "metadata": {},
   "source": [
    "# Export"
   ]
  },
  {
   "cell_type": "code",
   "execution_count": 30,
   "id": "64c4d0f6-de30-4fae-8228-53b2e2a2c3ee",
   "metadata": {},
   "outputs": [],
   "source": [
    "cat_col_names = [col for col in data.columns if 'pos' in col]\n",
    "cat_col_names = pd.DataFrame(cat_col_names)"
   ]
  },
  {
   "cell_type": "code",
   "execution_count": 31,
   "id": "e40d1e11-0c07-4e09-b2af-ac96f4c634c9",
   "metadata": {},
   "outputs": [],
   "source": [
    "#only when i want to drop the categorical columns\n",
    "#data.drop(cat_col_names[0].tolist(), axis=1, inplace=True)"
   ]
  },
  {
   "cell_type": "code",
   "execution_count": 32,
   "id": "ebad73c8-6063-4232-9e99-3ca5a9f67b58",
   "metadata": {},
   "outputs": [
    {
     "data": {
      "text/html": [
       "<div>\n",
       "<style scoped>\n",
       "    .dataframe tbody tr th:only-of-type {\n",
       "        vertical-align: middle;\n",
       "    }\n",
       "\n",
       "    .dataframe tbody tr th {\n",
       "        vertical-align: top;\n",
       "    }\n",
       "\n",
       "    .dataframe thead th {\n",
       "        text-align: right;\n",
       "    }\n",
       "</style>\n",
       "<table border=\"1\" class=\"dataframe\">\n",
       "  <thead>\n",
       "    <tr style=\"text-align: right;\">\n",
       "      <th></th>\n",
       "      <th>volume</th>\n",
       "      <th>direction_num</th>\n",
       "      <th>direction</th>\n",
       "      <th>sma_3</th>\n",
       "      <th>sma_7</th>\n",
       "      <th>sma_14</th>\n",
       "      <th>ema_3</th>\n",
       "      <th>ema_7</th>\n",
       "      <th>ema_14</th>\n",
       "      <th>MACD_12_26_9</th>\n",
       "      <th>...</th>\n",
       "      <th>pos_ema_14</th>\n",
       "      <th>pos_BBL_3_2.0</th>\n",
       "      <th>pos_BBM_3_2.0</th>\n",
       "      <th>pos_BBU_3_2.0</th>\n",
       "      <th>pos_BBL_7_2.0</th>\n",
       "      <th>pos_BBM_7_2.0</th>\n",
       "      <th>pos_BBU_7_2.0</th>\n",
       "      <th>pos_BBL_14_2.0</th>\n",
       "      <th>pos_BBM_14_2.0</th>\n",
       "      <th>pos_BBU_14_2.0</th>\n",
       "    </tr>\n",
       "    <tr>\n",
       "      <th>Date</th>\n",
       "      <th></th>\n",
       "      <th></th>\n",
       "      <th></th>\n",
       "      <th></th>\n",
       "      <th></th>\n",
       "      <th></th>\n",
       "      <th></th>\n",
       "      <th></th>\n",
       "      <th></th>\n",
       "      <th></th>\n",
       "      <th></th>\n",
       "      <th></th>\n",
       "      <th></th>\n",
       "      <th></th>\n",
       "      <th></th>\n",
       "      <th></th>\n",
       "      <th></th>\n",
       "      <th></th>\n",
       "      <th></th>\n",
       "      <th></th>\n",
       "      <th></th>\n",
       "    </tr>\n",
       "  </thead>\n",
       "  <tbody>\n",
       "    <tr>\n",
       "      <th>2010-02-19</th>\n",
       "      <td>121594600</td>\n",
       "      <td>94.790039</td>\n",
       "      <td>1</td>\n",
       "      <td>5640.290039</td>\n",
       "      <td>5567.522949</td>\n",
       "      <td>5568.541469</td>\n",
       "      <td>5639.855728</td>\n",
       "      <td>5595.033937</td>\n",
       "      <td>5600.607976</td>\n",
       "      <td>-100.308660</td>\n",
       "      <td>...</td>\n",
       "      <td>0</td>\n",
       "      <td>0</td>\n",
       "      <td>1</td>\n",
       "      <td>1</td>\n",
       "      <td>0</td>\n",
       "      <td>0</td>\n",
       "      <td>1</td>\n",
       "      <td>0</td>\n",
       "      <td>0</td>\n",
       "      <td>1</td>\n",
       "    </tr>\n",
       "    <tr>\n",
       "      <th>2010-02-22</th>\n",
       "      <td>94749200</td>\n",
       "      <td>-52.560059</td>\n",
       "      <td>0</td>\n",
       "      <td>5683.599935</td>\n",
       "      <td>5594.048619</td>\n",
       "      <td>5573.367885</td>\n",
       "      <td>5680.952766</td>\n",
       "      <td>5626.787904</td>\n",
       "      <td>5616.800220</td>\n",
       "      <td>-82.558273</td>\n",
       "      <td>...</td>\n",
       "      <td>0</td>\n",
       "      <td>0</td>\n",
       "      <td>0</td>\n",
       "      <td>1</td>\n",
       "      <td>0</td>\n",
       "      <td>0</td>\n",
       "      <td>1</td>\n",
       "      <td>0</td>\n",
       "      <td>0</td>\n",
       "      <td>1</td>\n",
       "    </tr>\n",
       "    <tr>\n",
       "      <th>2010-02-23</th>\n",
       "      <td>138143800</td>\n",
       "      <td>-111.560059</td>\n",
       "      <td>0</td>\n",
       "      <td>5696.966634</td>\n",
       "      <td>5620.407157</td>\n",
       "      <td>5571.852155</td>\n",
       "      <td>5684.696354</td>\n",
       "      <td>5642.200913</td>\n",
       "      <td>5626.352182</td>\n",
       "      <td>-70.391568</td>\n",
       "      <td>...</td>\n",
       "      <td>0</td>\n",
       "      <td>0</td>\n",
       "      <td>0</td>\n",
       "      <td>1</td>\n",
       "      <td>0</td>\n",
       "      <td>0</td>\n",
       "      <td>1</td>\n",
       "      <td>0</td>\n",
       "      <td>0</td>\n",
       "      <td>1</td>\n",
       "    </tr>\n",
       "    <tr>\n",
       "      <th>2010-02-24</th>\n",
       "      <td>130761600</td>\n",
       "      <td>-6.800293</td>\n",
       "      <td>0</td>\n",
       "      <td>5671.519857</td>\n",
       "      <td>5635.218541</td>\n",
       "      <td>5566.993583</td>\n",
       "      <td>5644.383089</td>\n",
       "      <td>5632.668141</td>\n",
       "      <td>5623.381201</td>\n",
       "      <td>-66.787446</td>\n",
       "      <td>...</td>\n",
       "      <td>1</td>\n",
       "      <td>0</td>\n",
       "      <td>1</td>\n",
       "      <td>1</td>\n",
       "      <td>0</td>\n",
       "      <td>1</td>\n",
       "      <td>1</td>\n",
       "      <td>0</td>\n",
       "      <td>0</td>\n",
       "      <td>1</td>\n",
       "    </tr>\n",
       "    <tr>\n",
       "      <th>2010-02-25</th>\n",
       "      <td>150089500</td>\n",
       "      <td>-30.370117</td>\n",
       "      <td>0</td>\n",
       "      <td>5636.006510</td>\n",
       "      <td>5650.134208</td>\n",
       "      <td>5572.869978</td>\n",
       "      <td>5629.946427</td>\n",
       "      <td>5628.378547</td>\n",
       "      <td>5622.331677</td>\n",
       "      <td>-62.290006</td>\n",
       "      <td>...</td>\n",
       "      <td>1</td>\n",
       "      <td>0</td>\n",
       "      <td>1</td>\n",
       "      <td>1</td>\n",
       "      <td>0</td>\n",
       "      <td>1</td>\n",
       "      <td>1</td>\n",
       "      <td>0</td>\n",
       "      <td>1</td>\n",
       "      <td>1</td>\n",
       "    </tr>\n",
       "  </tbody>\n",
       "</table>\n",
       "<p>5 rows × 62 columns</p>\n",
       "</div>"
      ],
      "text/plain": [
       "               volume  direction_num  direction        sma_3        sma_7  \\\n",
       "Date                                                                        \n",
       "2010-02-19  121594600      94.790039          1  5640.290039  5567.522949   \n",
       "2010-02-22   94749200     -52.560059          0  5683.599935  5594.048619   \n",
       "2010-02-23  138143800    -111.560059          0  5696.966634  5620.407157   \n",
       "2010-02-24  130761600      -6.800293          0  5671.519857  5635.218541   \n",
       "2010-02-25  150089500     -30.370117          0  5636.006510  5650.134208   \n",
       "\n",
       "                 sma_14        ema_3        ema_7       ema_14  MACD_12_26_9  \\\n",
       "Date                                                                           \n",
       "2010-02-19  5568.541469  5639.855728  5595.033937  5600.607976   -100.308660   \n",
       "2010-02-22  5573.367885  5680.952766  5626.787904  5616.800220    -82.558273   \n",
       "2010-02-23  5571.852155  5684.696354  5642.200913  5626.352182    -70.391568   \n",
       "2010-02-24  5566.993583  5644.383089  5632.668141  5623.381201    -66.787446   \n",
       "2010-02-25  5572.869978  5629.946427  5628.378547  5622.331677    -62.290006   \n",
       "\n",
       "            ...  pos_ema_14  pos_BBL_3_2.0  pos_BBM_3_2.0  pos_BBU_3_2.0  \\\n",
       "Date        ...                                                            \n",
       "2010-02-19  ...           0              0              1              1   \n",
       "2010-02-22  ...           0              0              0              1   \n",
       "2010-02-23  ...           0              0              0              1   \n",
       "2010-02-24  ...           1              0              1              1   \n",
       "2010-02-25  ...           1              0              1              1   \n",
       "\n",
       "            pos_BBL_7_2.0  pos_BBM_7_2.0  pos_BBU_7_2.0  pos_BBL_14_2.0  \\\n",
       "Date                                                                      \n",
       "2010-02-19              0              0              1               0   \n",
       "2010-02-22              0              0              1               0   \n",
       "2010-02-23              0              0              1               0   \n",
       "2010-02-24              0              1              1               0   \n",
       "2010-02-25              0              1              1               0   \n",
       "\n",
       "            pos_BBM_14_2.0  pos_BBU_14_2.0  \n",
       "Date                                        \n",
       "2010-02-19               0               1  \n",
       "2010-02-22               0               1  \n",
       "2010-02-23               0               1  \n",
       "2010-02-24               0               1  \n",
       "2010-02-25               1               1  \n",
       "\n",
       "[5 rows x 62 columns]"
      ]
     },
     "metadata": {},
     "output_type": "display_data"
    },
    {
     "data": {
      "text/plain": [
       "(3533, 62)"
      ]
     },
     "metadata": {},
     "output_type": "display_data"
    }
   ],
   "source": [
    "display(data.head())\n",
    "display(data.shape)"
   ]
  },
  {
   "cell_type": "code",
   "execution_count": 33,
   "id": "bbe98d4b-8f8f-4830-8b76-3c76ea6d8eeb",
   "metadata": {},
   "outputs": [],
   "source": [
    "data.to_csv('../data/dax_indicator_2000_2024.csv')"
   ]
  },
  {
   "cell_type": "code",
   "execution_count": 34,
   "id": "f9d88bc5-9071-4b0e-a85e-f8c0c06e5ccb",
   "metadata": {},
   "outputs": [],
   "source": [
    "cat_col_names.to_csv('../data/temp_cat_col_names.csv')"
   ]
  },
  {
   "cell_type": "code",
   "execution_count": null,
   "id": "0b0cf77b-8ff5-4105-aa2e-2f0ebaf8e5ae",
   "metadata": {},
   "outputs": [],
   "source": []
  },
  {
   "cell_type": "code",
   "execution_count": null,
   "id": "c9de9306-9ed9-4b30-b5ed-96d1de0af197",
   "metadata": {},
   "outputs": [],
   "source": []
  }
 ],
 "metadata": {
  "kernelspec": {
   "display_name": "proj_env",
   "language": "python",
   "name": "proj_env"
  },
  "language_info": {
   "codemirror_mode": {
    "name": "ipython",
    "version": 3
   },
   "file_extension": ".py",
   "mimetype": "text/x-python",
   "name": "python",
   "nbconvert_exporter": "python",
   "pygments_lexer": "ipython3",
   "version": "3.11.5"
  }
 },
 "nbformat": 4,
 "nbformat_minor": 5
}
