{
 "cells": [
  {
   "cell_type": "code",
   "execution_count": 169,
   "id": "052ff6e3-ff64-4300-8db1-7bc006ddeaa8",
   "metadata": {},
   "outputs": [],
   "source": [
    "import pandas as pd\n",
    "import numpy as np\n",
    "import pickle\n",
    "import seaborn as sns\n",
    "import matplotlib as plt\n",
    "from datetime import date"
   ]
  },
  {
   "cell_type": "code",
   "execution_count": 170,
   "id": "4a6ec217-085c-4de0-ac10-138c42e5fd42",
   "metadata": {},
   "outputs": [],
   "source": [
    "data = pd.read_csv('../data/dax_indicator_2000_2024.csv')"
   ]
  },
  {
   "cell_type": "code",
   "execution_count": 171,
   "id": "8e72b690-33be-4072-9baa-a45849adc602",
   "metadata": {},
   "outputs": [
    {
     "data": {
      "text/html": [
       "<div>\n",
       "<style scoped>\n",
       "    .dataframe tbody tr th:only-of-type {\n",
       "        vertical-align: middle;\n",
       "    }\n",
       "\n",
       "    .dataframe tbody tr th {\n",
       "        vertical-align: top;\n",
       "    }\n",
       "\n",
       "    .dataframe thead th {\n",
       "        text-align: right;\n",
       "    }\n",
       "</style>\n",
       "<table border=\"1\" class=\"dataframe\">\n",
       "  <thead>\n",
       "    <tr style=\"text-align: right;\">\n",
       "      <th></th>\n",
       "      <th>open</th>\n",
       "      <th>high</th>\n",
       "      <th>low</th>\n",
       "      <th>close</th>\n",
       "      <th>volumen</th>\n",
       "      <th>direction_num</th>\n",
       "      <th>direction</th>\n",
       "      <th>ma_7</th>\n",
       "      <th>ma_21</th>\n",
       "      <th>ma_200</th>\n",
       "    </tr>\n",
       "  </thead>\n",
       "  <tbody>\n",
       "    <tr>\n",
       "      <th>0</th>\n",
       "      <td>1284.510010</td>\n",
       "      <td>1284.510010</td>\n",
       "      <td>1284.510010</td>\n",
       "      <td>1284.510010</td>\n",
       "      <td>0</td>\n",
       "      <td>0.0</td>\n",
       "      <td>0</td>\n",
       "      <td>1271.230015</td>\n",
       "      <td>1255.598586</td>\n",
       "      <td>1108.528152</td>\n",
       "    </tr>\n",
       "    <tr>\n",
       "      <th>1</th>\n",
       "      <td>1282.750000</td>\n",
       "      <td>1282.750000</td>\n",
       "      <td>1282.750000</td>\n",
       "      <td>1282.750000</td>\n",
       "      <td>0</td>\n",
       "      <td>0.0</td>\n",
       "      <td>0</td>\n",
       "      <td>1274.825736</td>\n",
       "      <td>1258.144775</td>\n",
       "      <td>1109.915952</td>\n",
       "    </tr>\n",
       "    <tr>\n",
       "      <th>2</th>\n",
       "      <td>1299.589966</td>\n",
       "      <td>1299.589966</td>\n",
       "      <td>1299.589966</td>\n",
       "      <td>1299.589966</td>\n",
       "      <td>0</td>\n",
       "      <td>0.0</td>\n",
       "      <td>0</td>\n",
       "      <td>1279.758580</td>\n",
       "      <td>1260.579061</td>\n",
       "      <td>1111.631451</td>\n",
       "    </tr>\n",
       "    <tr>\n",
       "      <th>3</th>\n",
       "      <td>1309.229980</td>\n",
       "      <td>1309.229980</td>\n",
       "      <td>1309.229980</td>\n",
       "      <td>1309.229980</td>\n",
       "      <td>0</td>\n",
       "      <td>0.0</td>\n",
       "      <td>0</td>\n",
       "      <td>1283.409999</td>\n",
       "      <td>1263.730963</td>\n",
       "      <td>1113.197101</td>\n",
       "    </tr>\n",
       "    <tr>\n",
       "      <th>4</th>\n",
       "      <td>1288.439941</td>\n",
       "      <td>1288.439941</td>\n",
       "      <td>1288.439941</td>\n",
       "      <td>1288.439941</td>\n",
       "      <td>0</td>\n",
       "      <td>0.0</td>\n",
       "      <td>0</td>\n",
       "      <td>1285.255702</td>\n",
       "      <td>1265.190005</td>\n",
       "      <td>1114.609251</td>\n",
       "    </tr>\n",
       "  </tbody>\n",
       "</table>\n",
       "</div>"
      ],
      "text/plain": [
       "          open         high          low        close  volumen  direction_num  \\\n",
       "0  1284.510010  1284.510010  1284.510010  1284.510010        0            0.0   \n",
       "1  1282.750000  1282.750000  1282.750000  1282.750000        0            0.0   \n",
       "2  1299.589966  1299.589966  1299.589966  1299.589966        0            0.0   \n",
       "3  1309.229980  1309.229980  1309.229980  1309.229980        0            0.0   \n",
       "4  1288.439941  1288.439941  1288.439941  1288.439941        0            0.0   \n",
       "\n",
       "   direction         ma_7        ma_21       ma_200  \n",
       "0          0  1271.230015  1255.598586  1108.528152  \n",
       "1          0  1274.825736  1258.144775  1109.915952  \n",
       "2          0  1279.758580  1260.579061  1111.631451  \n",
       "3          0  1283.409999  1263.730963  1113.197101  \n",
       "4          0  1285.255702  1265.190005  1114.609251  "
      ]
     },
     "execution_count": 171,
     "metadata": {},
     "output_type": "execute_result"
    }
   ],
   "source": [
    "data.drop('Date', axis=1, inplace=True)\n",
    "data.head()"
   ]
  },
  {
   "cell_type": "markdown",
   "id": "aa206a1a-bf71-49ca-bb7a-365e19e3a5bd",
   "metadata": {},
   "source": [
    "# X y validation Split"
   ]
  },
  {
   "cell_type": "code",
   "execution_count": 172,
   "id": "ba72cf75-367d-4907-ab95-756ce0ead65e",
   "metadata": {},
   "outputs": [],
   "source": [
    "y = data[['direction']]\n",
    "X = data.drop(['direction','direction_num','open','high','low','close'],axis=1)"
   ]
  },
  {
   "cell_type": "code",
   "execution_count": 173,
   "id": "31c56f46-032f-4959-9089-accfc2ed32e9",
   "metadata": {},
   "outputs": [],
   "source": [
    "from sklearn.model_selection import train_test_split\n",
    "X_train, X_val, y_train, y_val = train_test_split(X, y, test_size=0.3, random_state=42, shuffle=False)"
   ]
  },
  {
   "cell_type": "code",
   "execution_count": 174,
   "id": "aeb4037c-bddb-4216-9146-cdc393260e20",
   "metadata": {},
   "outputs": [],
   "source": [
    "from sklearn.model_selection import train_test_split\n",
    "X_train, X_test, y_train, y_test = train_test_split(X_train, y_train, test_size=0.3, random_state=42, shuffle=False)"
   ]
  },
  {
   "cell_type": "code",
   "execution_count": 175,
   "id": "708fc388-e968-40c8-8104-3b23d585e967",
   "metadata": {},
   "outputs": [],
   "source": [
    "X_train_num = X_train.select_dtypes(np.number)\n",
    "#X_train_cat = X_train.select_dtypes(object)\n",
    "X_test_num = X_test.select_dtypes(np.number)\n",
    "#X_test_cat = X_test.select_dtypes(object)\n",
    "X_val_num = X_val.select_dtypes(np.number)\n",
    "#X_val_cat = X_val.select_dtypes(object)\n"
   ]
  },
  {
   "cell_type": "code",
   "execution_count": 176,
   "id": "10abffa3-aeb0-490b-8292-449cac6c1e0e",
   "metadata": {},
   "outputs": [],
   "source": [
    "#X_train , X_test, X_val"
   ]
  },
  {
   "cell_type": "markdown",
   "id": "de527bcd-e2f5-406e-9755-bbcba2313835",
   "metadata": {},
   "source": [
    "# One Hot Encoder"
   ]
  },
  {
   "cell_type": "markdown",
   "id": "c42a7545-b549-4ce1-873e-09db40d57c0e",
   "metadata": {},
   "source": [
    "# Transformer"
   ]
  },
  {
   "cell_type": "code",
   "execution_count": 177,
   "id": "af443523-4a71-4546-8efb-a6d29c2aa655",
   "metadata": {},
   "outputs": [
    {
     "name": "stdout",
     "output_type": "stream",
     "text": [
      "Skewness from volumen : 1.91\n",
      "Skewness from ma_7 : -0.3\n",
      "Skewness from ma_21 : -0.29\n",
      "Skewness from ma_200 : -0.21\n"
     ]
    }
   ],
   "source": [
    "for col in X_test_num.columns:\n",
    "    print(\"Skewness from {} : {}\".format(col,round(X_test_num[col].skew(),2)))"
   ]
  },
  {
   "cell_type": "code",
   "execution_count": 178,
   "id": "7953a05a-d8b1-43f9-aa52-d4128634c29b",
   "metadata": {},
   "outputs": [],
   "source": [
    "from sklearn.preprocessing import PowerTransformer\n",
    "\n",
    "transformer = PowerTransformer(standardize=True)\n",
    "transformer.fit(X_train_num) \n",
    "\n",
    "path = \"./\"\n",
    "filename = \"power_transformer_x.pkl\"\n",
    "with open(path+filename, \"wb\") as file:\n",
    "    pickle.dump(transformer, file)\n",
    "\n",
    "X_train_transformed = transformer.transform(X_train_num)\n",
    "X_test_transformed = transformer.transform(X_test_num)\n",
    "X_val_transformed = transformer.transform(X_val_num)\n",
    "\n",
    "X_train_num_transformed_df = pd.DataFrame(X_train_transformed, columns=X_train_num.columns, index=X_train_num.index)\n",
    "X_test_num_transformed_df  = pd.DataFrame(X_test_transformed,  columns=X_test_num.columns, index=X_test_num.index)\n",
    "X_val_num_transformed_df = pd.DataFrame(X_val_transformed, columns=X_val_num.columns, index=X_val_num.index)"
   ]
  },
  {
   "cell_type": "code",
   "execution_count": 179,
   "id": "79eb05cf-557e-411a-8d4c-e8ca92bc2012",
   "metadata": {},
   "outputs": [],
   "source": [
    "X_train_treated_df = X_train_num_transformed_df \n",
    "X_test_treated_df = X_test_num_transformed_df\n",
    "X_val_treated_df = X_val_num_transformed_df \n",
    "\n",
    "#adding cat later "
   ]
  },
  {
   "cell_type": "code",
   "execution_count": 180,
   "id": "28858b02-d1e2-42a3-bd5c-18c955599689",
   "metadata": {},
   "outputs": [
    {
     "name": "stdout",
     "output_type": "stream",
     "text": [
      "Skewness from volumen : 0.55\n",
      "Skewness from ma_7 : 0.02\n",
      "Skewness from ma_21 : 0.02\n",
      "Skewness from ma_200 : 0.02\n"
     ]
    }
   ],
   "source": [
    "for col in X_train_num_transformed_df.columns:\n",
    "    print(\"Skewness from {} : {}\".format(col,round(X_train_num_transformed_df[col].skew(),2)))"
   ]
  },
  {
   "cell_type": "markdown",
   "id": "c6d76626-12e2-4a77-867f-1cffead07493",
   "metadata": {},
   "source": [
    "# Scaler X"
   ]
  },
  {
   "cell_type": "code",
   "execution_count": 181,
   "id": "e98a8aa5-d45a-412d-a134-ed57dc98f71b",
   "metadata": {},
   "outputs": [],
   "source": [
    "from sklearn.preprocessing import MinMaxScaler\n",
    "\n",
    "scaler = MinMaxScaler()\n",
    "scaler.fit(X_train_treated_df)\n",
    "\n",
    "path = \"./\"\n",
    "filename = \"min_max_scaler_x.pkl\"\n",
    "with open(path+filename, \"wb\") as file:\n",
    "    pickle.dump(scaler, file)\n",
    "\n",
    "X_train_scaled = scaler.transform(X_train_treated_df)\n",
    "X_test_scaled  = scaler.transform(X_test_treated_df)\n",
    "X_val_scaled  = scaler.transform(X_val_treated_df)\n",
    "\n",
    "X_train_scaled_df = pd.DataFrame(X_train_scaled, columns=X_train_treated_df.columns)\n",
    "X_test_scaled_df  = pd.DataFrame(X_test_scaled,  columns=X_test_treated_df.columns)\n",
    "X_val_scaled_df  = pd.DataFrame(X_val_scaled,  columns=X_val_treated_df.columns)"
   ]
  },
  {
   "cell_type": "markdown",
   "id": "e0ca6569-86ed-45d2-b5a1-3d35b8ee7119",
   "metadata": {},
   "source": [
    "# Logistic Regression"
   ]
  },
  {
   "cell_type": "code",
   "execution_count": 182,
   "id": "b3e100b1-26a7-4543-b6f9-3a36dc5de151",
   "metadata": {},
   "outputs": [],
   "source": [
    "from sklearn.metrics import confusion_matrix, accuracy_score, precision_score, recall_score, ConfusionMatrixDisplay\n",
    "from sklearn.metrics import classification_report, f1_score, cohen_kappa_score\n",
    "from sklearn.linear_model import LogisticRegression"
   ]
  },
  {
   "cell_type": "code",
   "execution_count": 183,
   "id": "c04e6b40-ac81-4807-baa0-9e312776dcb5",
   "metadata": {},
   "outputs": [
    {
     "name": "stderr",
     "output_type": "stream",
     "text": [
      "C:\\Users\\schue\\IronHack\\Bootcamp\\Week_9\\Final_project\\proj_env\\Lib\\site-packages\\sklearn\\utils\\validation.py:1229: DataConversionWarning: A column-vector y was passed when a 1d array was expected. Please change the shape of y to (n_samples, ), for example using ravel().\n",
      "  y = column_or_1d(y, warn=True)\n"
     ]
    },
    {
     "data": {
      "text/html": [
       "<style>#sk-container-id-6 {\n",
       "  /* Definition of color scheme common for light and dark mode */\n",
       "  --sklearn-color-text: black;\n",
       "  --sklearn-color-line: gray;\n",
       "  /* Definition of color scheme for unfitted estimators */\n",
       "  --sklearn-color-unfitted-level-0: #fff5e6;\n",
       "  --sklearn-color-unfitted-level-1: #f6e4d2;\n",
       "  --sklearn-color-unfitted-level-2: #ffe0b3;\n",
       "  --sklearn-color-unfitted-level-3: chocolate;\n",
       "  /* Definition of color scheme for fitted estimators */\n",
       "  --sklearn-color-fitted-level-0: #f0f8ff;\n",
       "  --sklearn-color-fitted-level-1: #d4ebff;\n",
       "  --sklearn-color-fitted-level-2: #b3dbfd;\n",
       "  --sklearn-color-fitted-level-3: cornflowerblue;\n",
       "\n",
       "  /* Specific color for light theme */\n",
       "  --sklearn-color-text-on-default-background: var(--sg-text-color, var(--theme-code-foreground, var(--jp-content-font-color1, black)));\n",
       "  --sklearn-color-background: var(--sg-background-color, var(--theme-background, var(--jp-layout-color0, white)));\n",
       "  --sklearn-color-border-box: var(--sg-text-color, var(--theme-code-foreground, var(--jp-content-font-color1, black)));\n",
       "  --sklearn-color-icon: #696969;\n",
       "\n",
       "  @media (prefers-color-scheme: dark) {\n",
       "    /* Redefinition of color scheme for dark theme */\n",
       "    --sklearn-color-text-on-default-background: var(--sg-text-color, var(--theme-code-foreground, var(--jp-content-font-color1, white)));\n",
       "    --sklearn-color-background: var(--sg-background-color, var(--theme-background, var(--jp-layout-color0, #111)));\n",
       "    --sklearn-color-border-box: var(--sg-text-color, var(--theme-code-foreground, var(--jp-content-font-color1, white)));\n",
       "    --sklearn-color-icon: #878787;\n",
       "  }\n",
       "}\n",
       "\n",
       "#sk-container-id-6 {\n",
       "  color: var(--sklearn-color-text);\n",
       "}\n",
       "\n",
       "#sk-container-id-6 pre {\n",
       "  padding: 0;\n",
       "}\n",
       "\n",
       "#sk-container-id-6 input.sk-hidden--visually {\n",
       "  border: 0;\n",
       "  clip: rect(1px 1px 1px 1px);\n",
       "  clip: rect(1px, 1px, 1px, 1px);\n",
       "  height: 1px;\n",
       "  margin: -1px;\n",
       "  overflow: hidden;\n",
       "  padding: 0;\n",
       "  position: absolute;\n",
       "  width: 1px;\n",
       "}\n",
       "\n",
       "#sk-container-id-6 div.sk-dashed-wrapped {\n",
       "  border: 1px dashed var(--sklearn-color-line);\n",
       "  margin: 0 0.4em 0.5em 0.4em;\n",
       "  box-sizing: border-box;\n",
       "  padding-bottom: 0.4em;\n",
       "  background-color: var(--sklearn-color-background);\n",
       "}\n",
       "\n",
       "#sk-container-id-6 div.sk-container {\n",
       "  /* jupyter's `normalize.less` sets `[hidden] { display: none; }`\n",
       "     but bootstrap.min.css set `[hidden] { display: none !important; }`\n",
       "     so we also need the `!important` here to be able to override the\n",
       "     default hidden behavior on the sphinx rendered scikit-learn.org.\n",
       "     See: https://github.com/scikit-learn/scikit-learn/issues/21755 */\n",
       "  display: inline-block !important;\n",
       "  position: relative;\n",
       "}\n",
       "\n",
       "#sk-container-id-6 div.sk-text-repr-fallback {\n",
       "  display: none;\n",
       "}\n",
       "\n",
       "div.sk-parallel-item,\n",
       "div.sk-serial,\n",
       "div.sk-item {\n",
       "  /* draw centered vertical line to link estimators */\n",
       "  background-image: linear-gradient(var(--sklearn-color-text-on-default-background), var(--sklearn-color-text-on-default-background));\n",
       "  background-size: 2px 100%;\n",
       "  background-repeat: no-repeat;\n",
       "  background-position: center center;\n",
       "}\n",
       "\n",
       "/* Parallel-specific style estimator block */\n",
       "\n",
       "#sk-container-id-6 div.sk-parallel-item::after {\n",
       "  content: \"\";\n",
       "  width: 100%;\n",
       "  border-bottom: 2px solid var(--sklearn-color-text-on-default-background);\n",
       "  flex-grow: 1;\n",
       "}\n",
       "\n",
       "#sk-container-id-6 div.sk-parallel {\n",
       "  display: flex;\n",
       "  align-items: stretch;\n",
       "  justify-content: center;\n",
       "  background-color: var(--sklearn-color-background);\n",
       "  position: relative;\n",
       "}\n",
       "\n",
       "#sk-container-id-6 div.sk-parallel-item {\n",
       "  display: flex;\n",
       "  flex-direction: column;\n",
       "}\n",
       "\n",
       "#sk-container-id-6 div.sk-parallel-item:first-child::after {\n",
       "  align-self: flex-end;\n",
       "  width: 50%;\n",
       "}\n",
       "\n",
       "#sk-container-id-6 div.sk-parallel-item:last-child::after {\n",
       "  align-self: flex-start;\n",
       "  width: 50%;\n",
       "}\n",
       "\n",
       "#sk-container-id-6 div.sk-parallel-item:only-child::after {\n",
       "  width: 0;\n",
       "}\n",
       "\n",
       "/* Serial-specific style estimator block */\n",
       "\n",
       "#sk-container-id-6 div.sk-serial {\n",
       "  display: flex;\n",
       "  flex-direction: column;\n",
       "  align-items: center;\n",
       "  background-color: var(--sklearn-color-background);\n",
       "  padding-right: 1em;\n",
       "  padding-left: 1em;\n",
       "}\n",
       "\n",
       "\n",
       "/* Toggleable style: style used for estimator/Pipeline/ColumnTransformer box that is\n",
       "clickable and can be expanded/collapsed.\n",
       "- Pipeline and ColumnTransformer use this feature and define the default style\n",
       "- Estimators will overwrite some part of the style using the `sk-estimator` class\n",
       "*/\n",
       "\n",
       "/* Pipeline and ColumnTransformer style (default) */\n",
       "\n",
       "#sk-container-id-6 div.sk-toggleable {\n",
       "  /* Default theme specific background. It is overwritten whether we have a\n",
       "  specific estimator or a Pipeline/ColumnTransformer */\n",
       "  background-color: var(--sklearn-color-background);\n",
       "}\n",
       "\n",
       "/* Toggleable label */\n",
       "#sk-container-id-6 label.sk-toggleable__label {\n",
       "  cursor: pointer;\n",
       "  display: block;\n",
       "  width: 100%;\n",
       "  margin-bottom: 0;\n",
       "  padding: 0.5em;\n",
       "  box-sizing: border-box;\n",
       "  text-align: center;\n",
       "}\n",
       "\n",
       "#sk-container-id-6 label.sk-toggleable__label-arrow:before {\n",
       "  /* Arrow on the left of the label */\n",
       "  content: \"▸\";\n",
       "  float: left;\n",
       "  margin-right: 0.25em;\n",
       "  color: var(--sklearn-color-icon);\n",
       "}\n",
       "\n",
       "#sk-container-id-6 label.sk-toggleable__label-arrow:hover:before {\n",
       "  color: var(--sklearn-color-text);\n",
       "}\n",
       "\n",
       "/* Toggleable content - dropdown */\n",
       "\n",
       "#sk-container-id-6 div.sk-toggleable__content {\n",
       "  max-height: 0;\n",
       "  max-width: 0;\n",
       "  overflow: hidden;\n",
       "  text-align: left;\n",
       "  /* unfitted */\n",
       "  background-color: var(--sklearn-color-unfitted-level-0);\n",
       "}\n",
       "\n",
       "#sk-container-id-6 div.sk-toggleable__content.fitted {\n",
       "  /* fitted */\n",
       "  background-color: var(--sklearn-color-fitted-level-0);\n",
       "}\n",
       "\n",
       "#sk-container-id-6 div.sk-toggleable__content pre {\n",
       "  margin: 0.2em;\n",
       "  border-radius: 0.25em;\n",
       "  color: var(--sklearn-color-text);\n",
       "  /* unfitted */\n",
       "  background-color: var(--sklearn-color-unfitted-level-0);\n",
       "}\n",
       "\n",
       "#sk-container-id-6 div.sk-toggleable__content.fitted pre {\n",
       "  /* unfitted */\n",
       "  background-color: var(--sklearn-color-fitted-level-0);\n",
       "}\n",
       "\n",
       "#sk-container-id-6 input.sk-toggleable__control:checked~div.sk-toggleable__content {\n",
       "  /* Expand drop-down */\n",
       "  max-height: 200px;\n",
       "  max-width: 100%;\n",
       "  overflow: auto;\n",
       "}\n",
       "\n",
       "#sk-container-id-6 input.sk-toggleable__control:checked~label.sk-toggleable__label-arrow:before {\n",
       "  content: \"▾\";\n",
       "}\n",
       "\n",
       "/* Pipeline/ColumnTransformer-specific style */\n",
       "\n",
       "#sk-container-id-6 div.sk-label input.sk-toggleable__control:checked~label.sk-toggleable__label {\n",
       "  color: var(--sklearn-color-text);\n",
       "  background-color: var(--sklearn-color-unfitted-level-2);\n",
       "}\n",
       "\n",
       "#sk-container-id-6 div.sk-label.fitted input.sk-toggleable__control:checked~label.sk-toggleable__label {\n",
       "  background-color: var(--sklearn-color-fitted-level-2);\n",
       "}\n",
       "\n",
       "/* Estimator-specific style */\n",
       "\n",
       "/* Colorize estimator box */\n",
       "#sk-container-id-6 div.sk-estimator input.sk-toggleable__control:checked~label.sk-toggleable__label {\n",
       "  /* unfitted */\n",
       "  background-color: var(--sklearn-color-unfitted-level-2);\n",
       "}\n",
       "\n",
       "#sk-container-id-6 div.sk-estimator.fitted input.sk-toggleable__control:checked~label.sk-toggleable__label {\n",
       "  /* fitted */\n",
       "  background-color: var(--sklearn-color-fitted-level-2);\n",
       "}\n",
       "\n",
       "#sk-container-id-6 div.sk-label label.sk-toggleable__label,\n",
       "#sk-container-id-6 div.sk-label label {\n",
       "  /* The background is the default theme color */\n",
       "  color: var(--sklearn-color-text-on-default-background);\n",
       "}\n",
       "\n",
       "/* On hover, darken the color of the background */\n",
       "#sk-container-id-6 div.sk-label:hover label.sk-toggleable__label {\n",
       "  color: var(--sklearn-color-text);\n",
       "  background-color: var(--sklearn-color-unfitted-level-2);\n",
       "}\n",
       "\n",
       "/* Label box, darken color on hover, fitted */\n",
       "#sk-container-id-6 div.sk-label.fitted:hover label.sk-toggleable__label.fitted {\n",
       "  color: var(--sklearn-color-text);\n",
       "  background-color: var(--sklearn-color-fitted-level-2);\n",
       "}\n",
       "\n",
       "/* Estimator label */\n",
       "\n",
       "#sk-container-id-6 div.sk-label label {\n",
       "  font-family: monospace;\n",
       "  font-weight: bold;\n",
       "  display: inline-block;\n",
       "  line-height: 1.2em;\n",
       "}\n",
       "\n",
       "#sk-container-id-6 div.sk-label-container {\n",
       "  text-align: center;\n",
       "}\n",
       "\n",
       "/* Estimator-specific */\n",
       "#sk-container-id-6 div.sk-estimator {\n",
       "  font-family: monospace;\n",
       "  border: 1px dotted var(--sklearn-color-border-box);\n",
       "  border-radius: 0.25em;\n",
       "  box-sizing: border-box;\n",
       "  margin-bottom: 0.5em;\n",
       "  /* unfitted */\n",
       "  background-color: var(--sklearn-color-unfitted-level-0);\n",
       "}\n",
       "\n",
       "#sk-container-id-6 div.sk-estimator.fitted {\n",
       "  /* fitted */\n",
       "  background-color: var(--sklearn-color-fitted-level-0);\n",
       "}\n",
       "\n",
       "/* on hover */\n",
       "#sk-container-id-6 div.sk-estimator:hover {\n",
       "  /* unfitted */\n",
       "  background-color: var(--sklearn-color-unfitted-level-2);\n",
       "}\n",
       "\n",
       "#sk-container-id-6 div.sk-estimator.fitted:hover {\n",
       "  /* fitted */\n",
       "  background-color: var(--sklearn-color-fitted-level-2);\n",
       "}\n",
       "\n",
       "/* Specification for estimator info (e.g. \"i\" and \"?\") */\n",
       "\n",
       "/* Common style for \"i\" and \"?\" */\n",
       "\n",
       ".sk-estimator-doc-link,\n",
       "a:link.sk-estimator-doc-link,\n",
       "a:visited.sk-estimator-doc-link {\n",
       "  float: right;\n",
       "  font-size: smaller;\n",
       "  line-height: 1em;\n",
       "  font-family: monospace;\n",
       "  background-color: var(--sklearn-color-background);\n",
       "  border-radius: 1em;\n",
       "  height: 1em;\n",
       "  width: 1em;\n",
       "  text-decoration: none !important;\n",
       "  margin-left: 1ex;\n",
       "  /* unfitted */\n",
       "  border: var(--sklearn-color-unfitted-level-1) 1pt solid;\n",
       "  color: var(--sklearn-color-unfitted-level-1);\n",
       "}\n",
       "\n",
       ".sk-estimator-doc-link.fitted,\n",
       "a:link.sk-estimator-doc-link.fitted,\n",
       "a:visited.sk-estimator-doc-link.fitted {\n",
       "  /* fitted */\n",
       "  border: var(--sklearn-color-fitted-level-1) 1pt solid;\n",
       "  color: var(--sklearn-color-fitted-level-1);\n",
       "}\n",
       "\n",
       "/* On hover */\n",
       "div.sk-estimator:hover .sk-estimator-doc-link:hover,\n",
       ".sk-estimator-doc-link:hover,\n",
       "div.sk-label-container:hover .sk-estimator-doc-link:hover,\n",
       ".sk-estimator-doc-link:hover {\n",
       "  /* unfitted */\n",
       "  background-color: var(--sklearn-color-unfitted-level-3);\n",
       "  color: var(--sklearn-color-background);\n",
       "  text-decoration: none;\n",
       "}\n",
       "\n",
       "div.sk-estimator.fitted:hover .sk-estimator-doc-link.fitted:hover,\n",
       ".sk-estimator-doc-link.fitted:hover,\n",
       "div.sk-label-container:hover .sk-estimator-doc-link.fitted:hover,\n",
       ".sk-estimator-doc-link.fitted:hover {\n",
       "  /* fitted */\n",
       "  background-color: var(--sklearn-color-fitted-level-3);\n",
       "  color: var(--sklearn-color-background);\n",
       "  text-decoration: none;\n",
       "}\n",
       "\n",
       "/* Span, style for the box shown on hovering the info icon */\n",
       ".sk-estimator-doc-link span {\n",
       "  display: none;\n",
       "  z-index: 9999;\n",
       "  position: relative;\n",
       "  font-weight: normal;\n",
       "  right: .2ex;\n",
       "  padding: .5ex;\n",
       "  margin: .5ex;\n",
       "  width: min-content;\n",
       "  min-width: 20ex;\n",
       "  max-width: 50ex;\n",
       "  color: var(--sklearn-color-text);\n",
       "  box-shadow: 2pt 2pt 4pt #999;\n",
       "  /* unfitted */\n",
       "  background: var(--sklearn-color-unfitted-level-0);\n",
       "  border: .5pt solid var(--sklearn-color-unfitted-level-3);\n",
       "}\n",
       "\n",
       ".sk-estimator-doc-link.fitted span {\n",
       "  /* fitted */\n",
       "  background: var(--sklearn-color-fitted-level-0);\n",
       "  border: var(--sklearn-color-fitted-level-3);\n",
       "}\n",
       "\n",
       ".sk-estimator-doc-link:hover span {\n",
       "  display: block;\n",
       "}\n",
       "\n",
       "/* \"?\"-specific style due to the `<a>` HTML tag */\n",
       "\n",
       "#sk-container-id-6 a.estimator_doc_link {\n",
       "  float: right;\n",
       "  font-size: 1rem;\n",
       "  line-height: 1em;\n",
       "  font-family: monospace;\n",
       "  background-color: var(--sklearn-color-background);\n",
       "  border-radius: 1rem;\n",
       "  height: 1rem;\n",
       "  width: 1rem;\n",
       "  text-decoration: none;\n",
       "  /* unfitted */\n",
       "  color: var(--sklearn-color-unfitted-level-1);\n",
       "  border: var(--sklearn-color-unfitted-level-1) 1pt solid;\n",
       "}\n",
       "\n",
       "#sk-container-id-6 a.estimator_doc_link.fitted {\n",
       "  /* fitted */\n",
       "  border: var(--sklearn-color-fitted-level-1) 1pt solid;\n",
       "  color: var(--sklearn-color-fitted-level-1);\n",
       "}\n",
       "\n",
       "/* On hover */\n",
       "#sk-container-id-6 a.estimator_doc_link:hover {\n",
       "  /* unfitted */\n",
       "  background-color: var(--sklearn-color-unfitted-level-3);\n",
       "  color: var(--sklearn-color-background);\n",
       "  text-decoration: none;\n",
       "}\n",
       "\n",
       "#sk-container-id-6 a.estimator_doc_link.fitted:hover {\n",
       "  /* fitted */\n",
       "  background-color: var(--sklearn-color-fitted-level-3);\n",
       "}\n",
       "</style><div id=\"sk-container-id-6\" class=\"sk-top-container\"><div class=\"sk-text-repr-fallback\"><pre>LogisticRegression(multi_class=&#x27;ovr&#x27;, random_state=0)</pre><b>In a Jupyter environment, please rerun this cell to show the HTML representation or trust the notebook. <br />On GitHub, the HTML representation is unable to render, please try loading this page with nbviewer.org.</b></div><div class=\"sk-container\" hidden><div class=\"sk-item\"><div class=\"sk-estimator fitted sk-toggleable\"><input class=\"sk-toggleable__control sk-hidden--visually\" id=\"sk-estimator-id-6\" type=\"checkbox\" checked><label for=\"sk-estimator-id-6\" class=\"sk-toggleable__label fitted sk-toggleable__label-arrow fitted\">&nbsp;&nbsp;LogisticRegression<a class=\"sk-estimator-doc-link fitted\" rel=\"noreferrer\" target=\"_blank\" href=\"https://scikit-learn.org/1.4/modules/generated/sklearn.linear_model.LogisticRegression.html\">?<span>Documentation for LogisticRegression</span></a><span class=\"sk-estimator-doc-link fitted\">i<span>Fitted</span></span></label><div class=\"sk-toggleable__content fitted\"><pre>LogisticRegression(multi_class=&#x27;ovr&#x27;, random_state=0)</pre></div> </div></div></div></div>"
      ],
      "text/plain": [
       "LogisticRegression(multi_class='ovr', random_state=0)"
      ]
     },
     "execution_count": 183,
     "metadata": {},
     "output_type": "execute_result"
    }
   ],
   "source": [
    "classification = LogisticRegression(random_state=0, solver='lbfgs', multi_class='ovr')\n",
    "\n",
    "classification.fit(X_train_scaled_df, y_train)"
   ]
  },
  {
   "cell_type": "code",
   "execution_count": 184,
   "id": "13c79735-393d-4249-a15a-19b410da6c9c",
   "metadata": {},
   "outputs": [],
   "source": [
    "y_train_pred = classification.predict(X_train_scaled_df)\n",
    "y_test_pred  = classification.predict(X_test_scaled_df)\n",
    "y_val_pred  = classification.predict(X_val_scaled_df)"
   ]
  },
  {
   "cell_type": "markdown",
   "id": "1a7738c2-9d37-4fb8-b974-2a284312e13b",
   "metadata": {},
   "source": [
    "# Results"
   ]
  },
  {
   "cell_type": "markdown",
   "id": "bd5edb3a-e083-4833-8899-4a89e7406cc9",
   "metadata": {},
   "source": [
    "##  Confusion Matrix Train Set"
   ]
  },
  {
   "cell_type": "code",
   "execution_count": 185,
   "id": "1efbe273-8ece-45fd-a374-2541b4125c94",
   "metadata": {},
   "outputs": [
    {
     "data": {
      "text/plain": [
       "<sklearn.metrics._plot.confusion_matrix.ConfusionMatrixDisplay at 0x159f5bea290>"
      ]
     },
     "execution_count": 185,
     "metadata": {},
     "output_type": "execute_result"
    },
    {
     "data": {
      "image/png": "[encoded data removed]",
      "text/plain": [
       "<Figure size 640x480 with 2 Axes>"
      ]
     },
     "metadata": {},
     "output_type": "display_data"
    }
   ],
   "source": [
    "cm_train = confusion_matrix(y_train, y_train_pred)\n",
    "cm_train\n",
    "disp = ConfusionMatrixDisplay(cm_train, display_labels=classification.classes_);\n",
    "disp.plot()"
   ]
  },
  {
   "cell_type": "markdown",
   "id": "99b61d93-849f-4ead-8325-47fb3fe3a3d7",
   "metadata": {},
   "source": [
    "## Confusion Matrix Test Set"
   ]
  },
  {
   "cell_type": "code",
   "execution_count": 186,
   "id": "6db61c6f-e7a0-48c6-89fb-e9a5abf49097",
   "metadata": {},
   "outputs": [
    {
     "name": "stdout",
     "output_type": "stream",
     "text": [
      "[[  6 869]\n",
      " [ 10 988]]\n"
     ]
    },
    {
     "data": {
      "text/plain": [
       "<sklearn.metrics._plot.confusion_matrix.ConfusionMatrixDisplay at 0x159f5bfaa90>"
      ]
     },
     "execution_count": 186,
     "metadata": {},
     "output_type": "execute_result"
    },
    {
     "data": {
      "image/png": "[encoded data removed]",
      "text/plain": [
       "<Figure size 640x480 with 2 Axes>"
      ]
     },
     "metadata": {},
     "output_type": "display_data"
    }
   ],
   "source": [
    "cm_test = confusion_matrix(y_test, y_test_pred)\n",
    "print(cm_test)\n",
    "disp = ConfusionMatrixDisplay(cm_test,display_labels=classification.classes_);\n",
    "disp.plot()"
   ]
  },
  {
   "cell_type": "markdown",
   "id": "643b7ac1-9db6-4a07-9260-e5c492bb49e0",
   "metadata": {},
   "source": [
    "## Confusion Matrix Validation Set"
   ]
  },
  {
   "cell_type": "code",
   "execution_count": 187,
   "id": "1c6bb947-aa92-4b07-acce-293230f8670f",
   "metadata": {},
   "outputs": [
    {
     "name": "stdout",
     "output_type": "stream",
     "text": [
      "[[   0 1277]\n",
      " [   0 1399]]\n"
     ]
    },
    {
     "data": {
      "text/plain": [
       "<sklearn.metrics._plot.confusion_matrix.ConfusionMatrixDisplay at 0x159f327b190>"
      ]
     },
     "execution_count": 187,
     "metadata": {},
     "output_type": "execute_result"
    },
    {
     "data": {
      "image/png": "[encoded data removed]",
      "text/plain": [
       "<Figure size 640x480 with 2 Axes>"
      ]
     },
     "metadata": {},
     "output_type": "display_data"
    }
   ],
   "source": [
    "cm_test = confusion_matrix(y_val, y_val_pred)\n",
    "print(cm_test)\n",
    "disp = ConfusionMatrixDisplay(cm_test,display_labels=classification.classes_);\n",
    "disp.plot()"
   ]
  },
  {
   "cell_type": "markdown",
   "id": "47576bdd-8349-451c-b69e-bdaa7db396b6",
   "metadata": {},
   "source": [
    "## Error Matrix"
   ]
  },
  {
   "cell_type": "code",
   "execution_count": 188,
   "id": "9fb7801a-0a58-4acc-b1ea-81f575ad5228",
   "metadata": {},
   "outputs": [],
   "source": [
    "error_metric = pd.DataFrame({\"Train\":[accuracy_score(y_train, y_train_pred),f1_score(y_train,y_train_pred),\n",
    "                                recall_score(y_train,y_train_pred),precision_score(y_train, y_train_pred),\n",
    "                                cohen_kappa_score(y_train, y_train_pred)],\n",
    "                                \"Test\":[accuracy_score(y_test, y_test_pred),f1_score(y_test,y_test_pred),\n",
    "                                recall_score(y_test,  y_test_pred),precision_score(y_test, y_test_pred),\n",
    "                                cohen_kappa_score(y_test, y_test_pred)],\n",
    "                                \"Val\":[accuracy_score(y_val, y_val_pred),f1_score(y_val,y_val_pred),\n",
    "                                recall_score(y_val,  y_val_pred),precision_score(y_val, y_val_pred),\n",
    "                                cohen_kappa_score(y_val, y_val_pred)]},\n",
    "                                index=[\"accuracy\",\"F1\",\"recall\",\"precission\",\"kappa\"])"
   ]
  },
  {
   "cell_type": "code",
   "execution_count": 189,
   "id": "1bbf0695-1d77-4b6d-b9cf-5af5bbd7ab7f",
   "metadata": {},
   "outputs": [
    {
     "data": {
      "text/html": [
       "<div>\n",
       "<style scoped>\n",
       "    .dataframe tbody tr th:only-of-type {\n",
       "        vertical-align: middle;\n",
       "    }\n",
       "\n",
       "    .dataframe tbody tr th {\n",
       "        vertical-align: top;\n",
       "    }\n",
       "\n",
       "    .dataframe thead th {\n",
       "        text-align: right;\n",
       "    }\n",
       "</style>\n",
       "<table border=\"1\" class=\"dataframe\">\n",
       "  <thead>\n",
       "    <tr style=\"text-align: right;\">\n",
       "      <th></th>\n",
       "      <th>Train</th>\n",
       "      <th>Test</th>\n",
       "      <th>Val</th>\n",
       "    </tr>\n",
       "  </thead>\n",
       "  <tbody>\n",
       "    <tr>\n",
       "      <th>accuracy</th>\n",
       "      <td>0.647517</td>\n",
       "      <td>0.530699</td>\n",
       "      <td>0.522795</td>\n",
       "    </tr>\n",
       "    <tr>\n",
       "      <th>F1</th>\n",
       "      <td>0.466019</td>\n",
       "      <td>0.692119</td>\n",
       "      <td>0.686626</td>\n",
       "    </tr>\n",
       "    <tr>\n",
       "      <th>recall</th>\n",
       "      <td>0.423174</td>\n",
       "      <td>0.989980</td>\n",
       "      <td>1.000000</td>\n",
       "    </tr>\n",
       "    <tr>\n",
       "      <th>precission</th>\n",
       "      <td>0.518519</td>\n",
       "      <td>0.532041</td>\n",
       "      <td>0.522795</td>\n",
       "    </tr>\n",
       "    <tr>\n",
       "      <th>kappa</th>\n",
       "      <td>0.206957</td>\n",
       "      <td>-0.003367</td>\n",
       "      <td>0.000000</td>\n",
       "    </tr>\n",
       "  </tbody>\n",
       "</table>\n",
       "</div>"
      ],
      "text/plain": [
       "               Train      Test       Val\n",
       "accuracy    0.647517  0.530699  0.522795\n",
       "F1          0.466019  0.692119  0.686626\n",
       "recall      0.423174  0.989980  1.000000\n",
       "precission  0.518519  0.532041  0.522795\n",
       "kappa       0.206957 -0.003367  0.000000"
      ]
     },
     "execution_count": 189,
     "metadata": {},
     "output_type": "execute_result"
    }
   ],
   "source": [
    "error_metric"
   ]
  },
  {
   "cell_type": "markdown",
   "id": "31b5f97e-a0de-4cea-aaf6-c106459ad103",
   "metadata": {},
   "source": [
    "# Export"
   ]
  },
  {
   "cell_type": "code",
   "execution_count": 190,
   "id": "085475b9-2d25-430a-9f5f-91184c8d5fc1",
   "metadata": {},
   "outputs": [],
   "source": [
    "today = date.today()\n",
    "model_name = 'logistic_regression'"
   ]
  },
  {
   "cell_type": "code",
   "execution_count": 191,
   "id": "a909f0bf-6b5a-4c92-95b2-9c427d621354",
   "metadata": {},
   "outputs": [],
   "source": [
    "error_metric.to_csv('../data/error_metric_{}_{}.csv'.format(model_name,today))"
   ]
  },
  {
   "cell_type": "code",
   "execution_count": null,
   "id": "0512548c-c243-4a3e-b00d-7757ad7ebe55",
   "metadata": {},
   "outputs": [],
   "source": []
  },
  {
   "cell_type": "code",
   "execution_count": null,
   "id": "9f6187c9-4cf2-4713-bc97-40692eb8c9e0",
   "metadata": {},
   "outputs": [],
   "source": []
  }
 ],
 "metadata": {
  "kernelspec": {
   "display_name": "Python 3 (ipykernel)",
   "language": "python",
   "name": "python3"
  },
  "language_info": {
   "codemirror_mode": {
    "name": "ipython",
    "version": 3
   },
   "file_extension": ".py",
   "mimetype": "text/x-python",
   "name": "python",
   "nbconvert_exporter": "python",
   "pygments_lexer": "ipython3",
   "version": "3.11.5"
  }
 },
 "nbformat": 4,
 "nbformat_minor": 5
}
