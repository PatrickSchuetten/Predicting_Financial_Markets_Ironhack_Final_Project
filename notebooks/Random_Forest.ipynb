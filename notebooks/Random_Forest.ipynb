{
 "cells": [
  {
   "cell_type": "code",
   "execution_count": 1,
   "id": "052ff6e3-ff64-4300-8db1-7bc006ddeaa8",
   "metadata": {},
   "outputs": [],
   "source": [
    "import pandas as pd\n",
    "import numpy as np\n",
    "import pickle\n",
    "import seaborn as sns\n",
    "import matplotlib as plt\n",
    "from datetime import date"
   ]
  },
  {
   "cell_type": "markdown",
   "id": "277f19c9-0724-49f1-b413-3bb0b54cb12c",
   "metadata": {},
   "source": [
    "# Import"
   ]
  },
  {
   "cell_type": "code",
   "execution_count": 2,
   "id": "4a6ec217-085c-4de0-ac10-138c42e5fd42",
   "metadata": {},
   "outputs": [
    {
     "data": {
      "text/html": [
       "<div>\n",
       "<style scoped>\n",
       "    .dataframe tbody tr th:only-of-type {\n",
       "        vertical-align: middle;\n",
       "    }\n",
       "\n",
       "    .dataframe tbody tr th {\n",
       "        vertical-align: top;\n",
       "    }\n",
       "\n",
       "    .dataframe thead th {\n",
       "        text-align: right;\n",
       "    }\n",
       "</style>\n",
       "<table border=\"1\" class=\"dataframe\">\n",
       "  <thead>\n",
       "    <tr style=\"text-align: right;\">\n",
       "      <th></th>\n",
       "      <th>Date</th>\n",
       "      <th>volume</th>\n",
       "      <th>direction_num</th>\n",
       "      <th>direction</th>\n",
       "      <th>sma_3</th>\n",
       "      <th>sma_7</th>\n",
       "      <th>sma_14</th>\n",
       "      <th>ema_3</th>\n",
       "      <th>ema_7</th>\n",
       "      <th>ema_14</th>\n",
       "      <th>...</th>\n",
       "      <th>pos_ema_14</th>\n",
       "      <th>pos_BBL_3_2.0</th>\n",
       "      <th>pos_BBM_3_2.0</th>\n",
       "      <th>pos_BBU_3_2.0</th>\n",
       "      <th>pos_BBL_7_2.0</th>\n",
       "      <th>pos_BBM_7_2.0</th>\n",
       "      <th>pos_BBU_7_2.0</th>\n",
       "      <th>pos_BBL_14_2.0</th>\n",
       "      <th>pos_BBM_14_2.0</th>\n",
       "      <th>pos_BBU_14_2.0</th>\n",
       "    </tr>\n",
       "  </thead>\n",
       "  <tbody>\n",
       "    <tr>\n",
       "      <th>0</th>\n",
       "      <td>2000-02-18</td>\n",
       "      <td>52728400</td>\n",
       "      <td>-10.610352</td>\n",
       "      <td>0</td>\n",
       "      <td>7488.993164</td>\n",
       "      <td>7580.244141</td>\n",
       "      <td>7411.770612</td>\n",
       "      <td>7541.144222</td>\n",
       "      <td>7519.901521</td>\n",
       "      <td>7420.779574</td>\n",
       "      <td>...</td>\n",
       "      <td>0</td>\n",
       "      <td>0</td>\n",
       "      <td>0</td>\n",
       "      <td>1</td>\n",
       "      <td>0</td>\n",
       "      <td>0</td>\n",
       "      <td>1</td>\n",
       "      <td>0</td>\n",
       "      <td>0</td>\n",
       "      <td>1</td>\n",
       "    </tr>\n",
       "    <tr>\n",
       "      <th>1</th>\n",
       "      <td>2000-02-21</td>\n",
       "      <td>24404000</td>\n",
       "      <td>22.189941</td>\n",
       "      <td>1</td>\n",
       "      <td>7548.209798</td>\n",
       "      <td>7572.339844</td>\n",
       "      <td>7464.497733</td>\n",
       "      <td>7557.462004</td>\n",
       "      <td>7533.371087</td>\n",
       "      <td>7441.179602</td>\n",
       "      <td>...</td>\n",
       "      <td>0</td>\n",
       "      <td>0</td>\n",
       "      <td>0</td>\n",
       "      <td>1</td>\n",
       "      <td>0</td>\n",
       "      <td>1</td>\n",
       "      <td>1</td>\n",
       "      <td>0</td>\n",
       "      <td>0</td>\n",
       "      <td>1</td>\n",
       "    </tr>\n",
       "    <tr>\n",
       "      <th>2</th>\n",
       "      <td>2000-02-22</td>\n",
       "      <td>51082700</td>\n",
       "      <td>27.560059</td>\n",
       "      <td>1</td>\n",
       "      <td>7581.613118</td>\n",
       "      <td>7555.376953</td>\n",
       "      <td>7503.074149</td>\n",
       "      <td>7573.995894</td>\n",
       "      <td>7547.660761</td>\n",
       "      <td>7461.092960</td>\n",
       "      <td>...</td>\n",
       "      <td>0</td>\n",
       "      <td>0</td>\n",
       "      <td>1</td>\n",
       "      <td>1</td>\n",
       "      <td>0</td>\n",
       "      <td>0</td>\n",
       "      <td>1</td>\n",
       "      <td>0</td>\n",
       "      <td>0</td>\n",
       "      <td>1</td>\n",
       "    </tr>\n",
       "    <tr>\n",
       "      <th>3</th>\n",
       "      <td>2000-02-23</td>\n",
       "      <td>42673800</td>\n",
       "      <td>79.140137</td>\n",
       "      <td>1</td>\n",
       "      <td>7590.749837</td>\n",
       "      <td>7554.861258</td>\n",
       "      <td>7534.216274</td>\n",
       "      <td>7590.967918</td>\n",
       "      <td>7562.730556</td>\n",
       "      <td>7480.672557</td>\n",
       "      <td>...</td>\n",
       "      <td>0</td>\n",
       "      <td>0</td>\n",
       "      <td>0</td>\n",
       "      <td>0</td>\n",
       "      <td>0</td>\n",
       "      <td>0</td>\n",
       "      <td>1</td>\n",
       "      <td>0</td>\n",
       "      <td>0</td>\n",
       "      <td>1</td>\n",
       "    </tr>\n",
       "    <tr>\n",
       "      <th>4</th>\n",
       "      <td>2000-02-24</td>\n",
       "      <td>38686700</td>\n",
       "      <td>-56.390137</td>\n",
       "      <td>0</td>\n",
       "      <td>7632.479980</td>\n",
       "      <td>7562.599888</td>\n",
       "      <td>7558.838449</td>\n",
       "      <td>7644.969066</td>\n",
       "      <td>7596.790471</td>\n",
       "      <td>7509.778912</td>\n",
       "      <td>...</td>\n",
       "      <td>0</td>\n",
       "      <td>0</td>\n",
       "      <td>0</td>\n",
       "      <td>1</td>\n",
       "      <td>0</td>\n",
       "      <td>0</td>\n",
       "      <td>1</td>\n",
       "      <td>0</td>\n",
       "      <td>0</td>\n",
       "      <td>1</td>\n",
       "    </tr>\n",
       "  </tbody>\n",
       "</table>\n",
       "<p>5 rows × 63 columns</p>\n",
       "</div>"
      ],
      "text/plain": [
       "         Date    volume  direction_num  direction        sma_3        sma_7  \\\n",
       "0  2000-02-18  52728400     -10.610352          0  7488.993164  7580.244141   \n",
       "1  2000-02-21  24404000      22.189941          1  7548.209798  7572.339844   \n",
       "2  2000-02-22  51082700      27.560059          1  7581.613118  7555.376953   \n",
       "3  2000-02-23  42673800      79.140137          1  7590.749837  7554.861258   \n",
       "4  2000-02-24  38686700     -56.390137          0  7632.479980  7562.599888   \n",
       "\n",
       "        sma_14        ema_3        ema_7       ema_14  ...  pos_ema_14  \\\n",
       "0  7411.770612  7541.144222  7519.901521  7420.779574  ...           0   \n",
       "1  7464.497733  7557.462004  7533.371087  7441.179602  ...           0   \n",
       "2  7503.074149  7573.995894  7547.660761  7461.092960  ...           0   \n",
       "3  7534.216274  7590.967918  7562.730556  7480.672557  ...           0   \n",
       "4  7558.838449  7644.969066  7596.790471  7509.778912  ...           0   \n",
       "\n",
       "   pos_BBL_3_2.0  pos_BBM_3_2.0  pos_BBU_3_2.0  pos_BBL_7_2.0  pos_BBM_7_2.0  \\\n",
       "0              0              0              1              0              0   \n",
       "1              0              0              1              0              1   \n",
       "2              0              1              1              0              0   \n",
       "3              0              0              0              0              0   \n",
       "4              0              0              1              0              0   \n",
       "\n",
       "   pos_BBU_7_2.0  pos_BBL_14_2.0  pos_BBM_14_2.0  pos_BBU_14_2.0  \n",
       "0              1               0               0               1  \n",
       "1              1               0               0               1  \n",
       "2              1               0               0               1  \n",
       "3              1               0               0               1  \n",
       "4              1               0               0               1  \n",
       "\n",
       "[5 rows x 63 columns]"
      ]
     },
     "execution_count": 2,
     "metadata": {},
     "output_type": "execute_result"
    }
   ],
   "source": [
    "data = pd.read_csv('../data/dax_indicator_2000_2024.csv')\n",
    "data.head()"
   ]
  },
  {
   "cell_type": "code",
   "execution_count": 3,
   "id": "8e72b690-33be-4072-9baa-a45849adc602",
   "metadata": {},
   "outputs": [
    {
     "data": {
      "text/html": [
       "<div>\n",
       "<style scoped>\n",
       "    .dataframe tbody tr th:only-of-type {\n",
       "        vertical-align: middle;\n",
       "    }\n",
       "\n",
       "    .dataframe tbody tr th {\n",
       "        vertical-align: top;\n",
       "    }\n",
       "\n",
       "    .dataframe thead th {\n",
       "        text-align: right;\n",
       "    }\n",
       "</style>\n",
       "<table border=\"1\" class=\"dataframe\">\n",
       "  <thead>\n",
       "    <tr style=\"text-align: right;\">\n",
       "      <th></th>\n",
       "      <th>volume</th>\n",
       "      <th>direction_num</th>\n",
       "      <th>direction</th>\n",
       "      <th>sma_3</th>\n",
       "      <th>sma_7</th>\n",
       "      <th>sma_14</th>\n",
       "      <th>ema_3</th>\n",
       "      <th>ema_7</th>\n",
       "      <th>ema_14</th>\n",
       "      <th>MACD_12_26_9</th>\n",
       "      <th>...</th>\n",
       "      <th>pos_ema_14</th>\n",
       "      <th>pos_BBL_3_2.0</th>\n",
       "      <th>pos_BBM_3_2.0</th>\n",
       "      <th>pos_BBU_3_2.0</th>\n",
       "      <th>pos_BBL_7_2.0</th>\n",
       "      <th>pos_BBM_7_2.0</th>\n",
       "      <th>pos_BBU_7_2.0</th>\n",
       "      <th>pos_BBL_14_2.0</th>\n",
       "      <th>pos_BBM_14_2.0</th>\n",
       "      <th>pos_BBU_14_2.0</th>\n",
       "    </tr>\n",
       "  </thead>\n",
       "  <tbody>\n",
       "    <tr>\n",
       "      <th>0</th>\n",
       "      <td>52728400</td>\n",
       "      <td>-10.610352</td>\n",
       "      <td>0</td>\n",
       "      <td>7488.993164</td>\n",
       "      <td>7580.244141</td>\n",
       "      <td>7411.770612</td>\n",
       "      <td>7541.144222</td>\n",
       "      <td>7519.901521</td>\n",
       "      <td>7420.779574</td>\n",
       "      <td>199.120827</td>\n",
       "      <td>...</td>\n",
       "      <td>0</td>\n",
       "      <td>0</td>\n",
       "      <td>0</td>\n",
       "      <td>1</td>\n",
       "      <td>0</td>\n",
       "      <td>0</td>\n",
       "      <td>1</td>\n",
       "      <td>0</td>\n",
       "      <td>0</td>\n",
       "      <td>1</td>\n",
       "    </tr>\n",
       "    <tr>\n",
       "      <th>1</th>\n",
       "      <td>24404000</td>\n",
       "      <td>22.189941</td>\n",
       "      <td>1</td>\n",
       "      <td>7548.209798</td>\n",
       "      <td>7572.339844</td>\n",
       "      <td>7464.497733</td>\n",
       "      <td>7557.462004</td>\n",
       "      <td>7533.371087</td>\n",
       "      <td>7441.179602</td>\n",
       "      <td>194.131292</td>\n",
       "      <td>...</td>\n",
       "      <td>0</td>\n",
       "      <td>0</td>\n",
       "      <td>0</td>\n",
       "      <td>1</td>\n",
       "      <td>0</td>\n",
       "      <td>1</td>\n",
       "      <td>1</td>\n",
       "      <td>0</td>\n",
       "      <td>0</td>\n",
       "      <td>1</td>\n",
       "    </tr>\n",
       "    <tr>\n",
       "      <th>2</th>\n",
       "      <td>51082700</td>\n",
       "      <td>27.560059</td>\n",
       "      <td>1</td>\n",
       "      <td>7581.613118</td>\n",
       "      <td>7555.376953</td>\n",
       "      <td>7503.074149</td>\n",
       "      <td>7573.995894</td>\n",
       "      <td>7547.660761</td>\n",
       "      <td>7461.092960</td>\n",
       "      <td>189.345973</td>\n",
       "      <td>...</td>\n",
       "      <td>0</td>\n",
       "      <td>0</td>\n",
       "      <td>1</td>\n",
       "      <td>1</td>\n",
       "      <td>0</td>\n",
       "      <td>0</td>\n",
       "      <td>1</td>\n",
       "      <td>0</td>\n",
       "      <td>0</td>\n",
       "      <td>1</td>\n",
       "    </tr>\n",
       "    <tr>\n",
       "      <th>3</th>\n",
       "      <td>42673800</td>\n",
       "      <td>79.140137</td>\n",
       "      <td>1</td>\n",
       "      <td>7590.749837</td>\n",
       "      <td>7554.861258</td>\n",
       "      <td>7534.216274</td>\n",
       "      <td>7590.967918</td>\n",
       "      <td>7562.730556</td>\n",
       "      <td>7480.672557</td>\n",
       "      <td>184.827846</td>\n",
       "      <td>...</td>\n",
       "      <td>0</td>\n",
       "      <td>0</td>\n",
       "      <td>0</td>\n",
       "      <td>0</td>\n",
       "      <td>0</td>\n",
       "      <td>0</td>\n",
       "      <td>1</td>\n",
       "      <td>0</td>\n",
       "      <td>0</td>\n",
       "      <td>1</td>\n",
       "    </tr>\n",
       "    <tr>\n",
       "      <th>4</th>\n",
       "      <td>38686700</td>\n",
       "      <td>-56.390137</td>\n",
       "      <td>0</td>\n",
       "      <td>7632.479980</td>\n",
       "      <td>7562.599888</td>\n",
       "      <td>7558.838449</td>\n",
       "      <td>7644.969066</td>\n",
       "      <td>7596.790471</td>\n",
       "      <td>7509.778912</td>\n",
       "      <td>186.443378</td>\n",
       "      <td>...</td>\n",
       "      <td>0</td>\n",
       "      <td>0</td>\n",
       "      <td>0</td>\n",
       "      <td>1</td>\n",
       "      <td>0</td>\n",
       "      <td>0</td>\n",
       "      <td>1</td>\n",
       "      <td>0</td>\n",
       "      <td>0</td>\n",
       "      <td>1</td>\n",
       "    </tr>\n",
       "  </tbody>\n",
       "</table>\n",
       "<p>5 rows × 62 columns</p>\n",
       "</div>"
      ],
      "text/plain": [
       "     volume  direction_num  direction        sma_3        sma_7       sma_14  \\\n",
       "0  52728400     -10.610352          0  7488.993164  7580.244141  7411.770612   \n",
       "1  24404000      22.189941          1  7548.209798  7572.339844  7464.497733   \n",
       "2  51082700      27.560059          1  7581.613118  7555.376953  7503.074149   \n",
       "3  42673800      79.140137          1  7590.749837  7554.861258  7534.216274   \n",
       "4  38686700     -56.390137          0  7632.479980  7562.599888  7558.838449   \n",
       "\n",
       "         ema_3        ema_7       ema_14  MACD_12_26_9  ...  pos_ema_14  \\\n",
       "0  7541.144222  7519.901521  7420.779574    199.120827  ...           0   \n",
       "1  7557.462004  7533.371087  7441.179602    194.131292  ...           0   \n",
       "2  7573.995894  7547.660761  7461.092960    189.345973  ...           0   \n",
       "3  7590.967918  7562.730556  7480.672557    184.827846  ...           0   \n",
       "4  7644.969066  7596.790471  7509.778912    186.443378  ...           0   \n",
       "\n",
       "   pos_BBL_3_2.0  pos_BBM_3_2.0  pos_BBU_3_2.0  pos_BBL_7_2.0  pos_BBM_7_2.0  \\\n",
       "0              0              0              1              0              0   \n",
       "1              0              0              1              0              1   \n",
       "2              0              1              1              0              0   \n",
       "3              0              0              0              0              0   \n",
       "4              0              0              1              0              0   \n",
       "\n",
       "   pos_BBU_7_2.0  pos_BBL_14_2.0  pos_BBM_14_2.0  pos_BBU_14_2.0  \n",
       "0              1               0               0               1  \n",
       "1              1               0               0               1  \n",
       "2              1               0               0               1  \n",
       "3              1               0               0               1  \n",
       "4              1               0               0               1  \n",
       "\n",
       "[5 rows x 62 columns]"
      ]
     },
     "execution_count": 3,
     "metadata": {},
     "output_type": "execute_result"
    }
   ],
   "source": [
    "data.drop('Date', axis=1, inplace=True)\n",
    "data.head()"
   ]
  },
  {
   "cell_type": "markdown",
   "id": "aa206a1a-bf71-49ca-bb7a-365e19e3a5bd",
   "metadata": {},
   "source": [
    "# X y validation Split"
   ]
  },
  {
   "cell_type": "code",
   "execution_count": 4,
   "id": "ba72cf75-367d-4907-ab95-756ce0ead65e",
   "metadata": {},
   "outputs": [],
   "source": [
    "y = data[['direction']]\n",
    "X = data.drop(['direction','direction_num'],axis=1) #"
   ]
  },
  {
   "cell_type": "code",
   "execution_count": 5,
   "id": "b9427d8c-3c8a-4d99-bc22-60961e44bcbf",
   "metadata": {},
   "outputs": [
    {
     "data": {
      "text/html": [
       "<div>\n",
       "<style scoped>\n",
       "    .dataframe tbody tr th:only-of-type {\n",
       "        vertical-align: middle;\n",
       "    }\n",
       "\n",
       "    .dataframe tbody tr th {\n",
       "        vertical-align: top;\n",
       "    }\n",
       "\n",
       "    .dataframe thead th {\n",
       "        text-align: right;\n",
       "    }\n",
       "</style>\n",
       "<table border=\"1\" class=\"dataframe\">\n",
       "  <thead>\n",
       "    <tr style=\"text-align: right;\">\n",
       "      <th></th>\n",
       "      <th>volume</th>\n",
       "      <th>sma_3</th>\n",
       "      <th>sma_7</th>\n",
       "      <th>sma_14</th>\n",
       "      <th>ema_3</th>\n",
       "      <th>ema_7</th>\n",
       "      <th>ema_14</th>\n",
       "      <th>MACD_12_26_9</th>\n",
       "      <th>MACDh_12_26_9</th>\n",
       "      <th>MACDs_12_26_9</th>\n",
       "      <th>...</th>\n",
       "      <th>pos_ema_14</th>\n",
       "      <th>pos_BBL_3_2.0</th>\n",
       "      <th>pos_BBM_3_2.0</th>\n",
       "      <th>pos_BBU_3_2.0</th>\n",
       "      <th>pos_BBL_7_2.0</th>\n",
       "      <th>pos_BBM_7_2.0</th>\n",
       "      <th>pos_BBU_7_2.0</th>\n",
       "      <th>pos_BBL_14_2.0</th>\n",
       "      <th>pos_BBM_14_2.0</th>\n",
       "      <th>pos_BBU_14_2.0</th>\n",
       "    </tr>\n",
       "  </thead>\n",
       "  <tbody>\n",
       "    <tr>\n",
       "      <th>0</th>\n",
       "      <td>52728400</td>\n",
       "      <td>7488.993164</td>\n",
       "      <td>7580.244141</td>\n",
       "      <td>7411.770612</td>\n",
       "      <td>7541.144222</td>\n",
       "      <td>7519.901521</td>\n",
       "      <td>7420.779574</td>\n",
       "      <td>199.120827</td>\n",
       "      <td>-4.280509</td>\n",
       "      <td>203.401335</td>\n",
       "      <td>...</td>\n",
       "      <td>0</td>\n",
       "      <td>0</td>\n",
       "      <td>0</td>\n",
       "      <td>1</td>\n",
       "      <td>0</td>\n",
       "      <td>0</td>\n",
       "      <td>1</td>\n",
       "      <td>0</td>\n",
       "      <td>0</td>\n",
       "      <td>1</td>\n",
       "    </tr>\n",
       "    <tr>\n",
       "      <th>1</th>\n",
       "      <td>24404000</td>\n",
       "      <td>7548.209798</td>\n",
       "      <td>7572.339844</td>\n",
       "      <td>7464.497733</td>\n",
       "      <td>7557.462004</td>\n",
       "      <td>7533.371087</td>\n",
       "      <td>7441.179602</td>\n",
       "      <td>194.131292</td>\n",
       "      <td>-7.416034</td>\n",
       "      <td>201.547327</td>\n",
       "      <td>...</td>\n",
       "      <td>0</td>\n",
       "      <td>0</td>\n",
       "      <td>0</td>\n",
       "      <td>1</td>\n",
       "      <td>0</td>\n",
       "      <td>1</td>\n",
       "      <td>1</td>\n",
       "      <td>0</td>\n",
       "      <td>0</td>\n",
       "      <td>1</td>\n",
       "    </tr>\n",
       "    <tr>\n",
       "      <th>2</th>\n",
       "      <td>51082700</td>\n",
       "      <td>7581.613118</td>\n",
       "      <td>7555.376953</td>\n",
       "      <td>7503.074149</td>\n",
       "      <td>7573.995894</td>\n",
       "      <td>7547.660761</td>\n",
       "      <td>7461.092960</td>\n",
       "      <td>189.345973</td>\n",
       "      <td>-9.761083</td>\n",
       "      <td>199.107056</td>\n",
       "      <td>...</td>\n",
       "      <td>0</td>\n",
       "      <td>0</td>\n",
       "      <td>1</td>\n",
       "      <td>1</td>\n",
       "      <td>0</td>\n",
       "      <td>0</td>\n",
       "      <td>1</td>\n",
       "      <td>0</td>\n",
       "      <td>0</td>\n",
       "      <td>1</td>\n",
       "    </tr>\n",
       "    <tr>\n",
       "      <th>3</th>\n",
       "      <td>42673800</td>\n",
       "      <td>7590.749837</td>\n",
       "      <td>7554.861258</td>\n",
       "      <td>7534.216274</td>\n",
       "      <td>7590.967918</td>\n",
       "      <td>7562.730556</td>\n",
       "      <td>7480.672557</td>\n",
       "      <td>184.827846</td>\n",
       "      <td>-11.423367</td>\n",
       "      <td>196.251214</td>\n",
       "      <td>...</td>\n",
       "      <td>0</td>\n",
       "      <td>0</td>\n",
       "      <td>0</td>\n",
       "      <td>0</td>\n",
       "      <td>0</td>\n",
       "      <td>0</td>\n",
       "      <td>1</td>\n",
       "      <td>0</td>\n",
       "      <td>0</td>\n",
       "      <td>1</td>\n",
       "    </tr>\n",
       "    <tr>\n",
       "      <th>4</th>\n",
       "      <td>38686700</td>\n",
       "      <td>7632.479980</td>\n",
       "      <td>7562.599888</td>\n",
       "      <td>7558.838449</td>\n",
       "      <td>7644.969066</td>\n",
       "      <td>7596.790471</td>\n",
       "      <td>7509.778912</td>\n",
       "      <td>186.443378</td>\n",
       "      <td>-7.846269</td>\n",
       "      <td>194.289647</td>\n",
       "      <td>...</td>\n",
       "      <td>0</td>\n",
       "      <td>0</td>\n",
       "      <td>0</td>\n",
       "      <td>1</td>\n",
       "      <td>0</td>\n",
       "      <td>0</td>\n",
       "      <td>1</td>\n",
       "      <td>0</td>\n",
       "      <td>0</td>\n",
       "      <td>1</td>\n",
       "    </tr>\n",
       "  </tbody>\n",
       "</table>\n",
       "<p>5 rows × 60 columns</p>\n",
       "</div>"
      ],
      "text/plain": [
       "     volume        sma_3        sma_7       sma_14        ema_3        ema_7  \\\n",
       "0  52728400  7488.993164  7580.244141  7411.770612  7541.144222  7519.901521   \n",
       "1  24404000  7548.209798  7572.339844  7464.497733  7557.462004  7533.371087   \n",
       "2  51082700  7581.613118  7555.376953  7503.074149  7573.995894  7547.660761   \n",
       "3  42673800  7590.749837  7554.861258  7534.216274  7590.967918  7562.730556   \n",
       "4  38686700  7632.479980  7562.599888  7558.838449  7644.969066  7596.790471   \n",
       "\n",
       "        ema_14  MACD_12_26_9  MACDh_12_26_9  MACDs_12_26_9  ...  pos_ema_14  \\\n",
       "0  7420.779574    199.120827      -4.280509     203.401335  ...           0   \n",
       "1  7441.179602    194.131292      -7.416034     201.547327  ...           0   \n",
       "2  7461.092960    189.345973      -9.761083     199.107056  ...           0   \n",
       "3  7480.672557    184.827846     -11.423367     196.251214  ...           0   \n",
       "4  7509.778912    186.443378      -7.846269     194.289647  ...           0   \n",
       "\n",
       "   pos_BBL_3_2.0  pos_BBM_3_2.0  pos_BBU_3_2.0  pos_BBL_7_2.0  pos_BBM_7_2.0  \\\n",
       "0              0              0              1              0              0   \n",
       "1              0              0              1              0              1   \n",
       "2              0              1              1              0              0   \n",
       "3              0              0              0              0              0   \n",
       "4              0              0              1              0              0   \n",
       "\n",
       "   pos_BBU_7_2.0  pos_BBL_14_2.0  pos_BBM_14_2.0  pos_BBU_14_2.0  \n",
       "0              1               0               0               1  \n",
       "1              1               0               0               1  \n",
       "2              1               0               0               1  \n",
       "3              1               0               0               1  \n",
       "4              1               0               0               1  \n",
       "\n",
       "[5 rows x 60 columns]"
      ]
     },
     "execution_count": 5,
     "metadata": {},
     "output_type": "execute_result"
    }
   ],
   "source": [
    "X.head()"
   ]
  },
  {
   "cell_type": "markdown",
   "id": "7012b57a-91bf-432d-ac5c-6406528fa536",
   "metadata": {},
   "source": [
    "#### Imput the list of position columns"
   ]
  },
  {
   "cell_type": "code",
   "execution_count": 6,
   "id": "55b7fb74-ac95-4160-9db3-b7cd09c4a32a",
   "metadata": {},
   "outputs": [
    {
     "data": {
      "text/plain": [
       "['pos_sma_3',\n",
       " 'pos_sma_7',\n",
       " 'pos_sma_14',\n",
       " 'pos_ema_3',\n",
       " 'pos_ema_7',\n",
       " 'pos_ema_14',\n",
       " 'pos_BBL_3_2.0',\n",
       " 'pos_BBM_3_2.0',\n",
       " 'pos_BBU_3_2.0',\n",
       " 'pos_BBL_7_2.0',\n",
       " 'pos_BBM_7_2.0',\n",
       " 'pos_BBU_7_2.0',\n",
       " 'pos_BBL_14_2.0',\n",
       " 'pos_BBM_14_2.0',\n",
       " 'pos_BBU_14_2.0']"
      ]
     },
     "execution_count": 6,
     "metadata": {},
     "output_type": "execute_result"
    }
   ],
   "source": [
    "cat_col_names = pd.read_csv('../data/temp_cat_col_names.csv')\n",
    "cat_col_names.drop('Unnamed: 0', axis=1, inplace=True)\n",
    "cat_col_names = cat_col_names['0'].tolist()\n",
    "cat_col_names"
   ]
  },
  {
   "cell_type": "code",
   "execution_count": 7,
   "id": "31c56f46-032f-4959-9089-accfc2ed32e9",
   "metadata": {},
   "outputs": [],
   "source": [
    "from sklearn.model_selection import train_test_split\n",
    "X_train, X_val, y_train, y_val = train_test_split(X, y, test_size=0.3, random_state=99, shuffle=False)"
   ]
  },
  {
   "cell_type": "code",
   "execution_count": 8,
   "id": "aeb4037c-bddb-4216-9146-cdc393260e20",
   "metadata": {},
   "outputs": [],
   "source": [
    "from sklearn.model_selection import train_test_split\n",
    "X_train, X_test, y_train, y_test = train_test_split(X_train, y_train, test_size=0.3, random_state=42, shuffle=False)"
   ]
  },
  {
   "cell_type": "markdown",
   "id": "bbcc2cdd-e333-4974-94e1-332c7a6b90a9",
   "metadata": {},
   "source": [
    "# Checking Shapes"
   ]
  },
  {
   "cell_type": "code",
   "execution_count": 9,
   "id": "7a6461d7-9f10-4ee5-8beb-d06e8d35f2c4",
   "metadata": {},
   "outputs": [
    {
     "data": {
      "text/plain": [
       "((2976, 60), (2976, 1))"
      ]
     },
     "execution_count": 9,
     "metadata": {},
     "output_type": "execute_result"
    }
   ],
   "source": [
    "X_train.shape, y_train.shape"
   ]
  },
  {
   "cell_type": "code",
   "execution_count": 10,
   "id": "5b23a1dc-accd-4725-aaf9-7fcfe1e5a6eb",
   "metadata": {},
   "outputs": [
    {
     "data": {
      "text/plain": [
       "((1276, 60), (1276, 1))"
      ]
     },
     "execution_count": 10,
     "metadata": {},
     "output_type": "execute_result"
    }
   ],
   "source": [
    "X_test.shape, y_test.shape"
   ]
  },
  {
   "cell_type": "code",
   "execution_count": 11,
   "id": "0743c0e1-0727-4d29-8010-ed5dcf54956f",
   "metadata": {},
   "outputs": [
    {
     "data": {
      "text/plain": [
       "((1823, 60), (1823, 1))"
      ]
     },
     "execution_count": 11,
     "metadata": {},
     "output_type": "execute_result"
    }
   ],
   "source": [
    "X_val.shape, y_val.shape"
   ]
  },
  {
   "cell_type": "markdown",
   "id": "e0ca6569-86ed-45d2-b5a1-3d35b8ee7119",
   "metadata": {},
   "source": [
    "# Random Forest"
   ]
  },
  {
   "cell_type": "code",
   "execution_count": 12,
   "id": "b3e100b1-26a7-4543-b6f9-3a36dc5de151",
   "metadata": {},
   "outputs": [],
   "source": [
    "from sklearn.metrics import confusion_matrix, accuracy_score, precision_score, recall_score, ConfusionMatrixDisplay\n",
    "from sklearn.metrics import classification_report, f1_score, cohen_kappa_score\n",
    "from sklearn.ensemble import RandomForestClassifier"
   ]
  },
  {
   "cell_type": "code",
   "execution_count": 13,
   "id": "c04e6b40-ac81-4807-baa0-9e312776dcb5",
   "metadata": {},
   "outputs": [
    {
     "data": {
      "text/html": [
       "<style>#sk-container-id-1 {color: black;}#sk-container-id-1 pre{padding: 0;}#sk-container-id-1 div.sk-toggleable {background-color: white;}#sk-container-id-1 label.sk-toggleable__label {cursor: pointer;display: block;width: 100%;margin-bottom: 0;padding: 0.3em;box-sizing: border-box;text-align: center;}#sk-container-id-1 label.sk-toggleable__label-arrow:before {content: \"▸\";float: left;margin-right: 0.25em;color: #696969;}#sk-container-id-1 label.sk-toggleable__label-arrow:hover:before {color: black;}#sk-container-id-1 div.sk-estimator:hover label.sk-toggleable__label-arrow:before {color: black;}#sk-container-id-1 div.sk-toggleable__content {max-height: 0;max-width: 0;overflow: hidden;text-align: left;background-color: #f0f8ff;}#sk-container-id-1 div.sk-toggleable__content pre {margin: 0.2em;color: black;border-radius: 0.25em;background-color: #f0f8ff;}#sk-container-id-1 input.sk-toggleable__control:checked~div.sk-toggleable__content {max-height: 200px;max-width: 100%;overflow: auto;}#sk-container-id-1 input.sk-toggleable__control:checked~label.sk-toggleable__label-arrow:before {content: \"▾\";}#sk-container-id-1 div.sk-estimator input.sk-toggleable__control:checked~label.sk-toggleable__label {background-color: #d4ebff;}#sk-container-id-1 div.sk-label input.sk-toggleable__control:checked~label.sk-toggleable__label {background-color: #d4ebff;}#sk-container-id-1 input.sk-hidden--visually {border: 0;clip: rect(1px 1px 1px 1px);clip: rect(1px, 1px, 1px, 1px);height: 1px;margin: -1px;overflow: hidden;padding: 0;position: absolute;width: 1px;}#sk-container-id-1 div.sk-estimator {font-family: monospace;background-color: #f0f8ff;border: 1px dotted black;border-radius: 0.25em;box-sizing: border-box;margin-bottom: 0.5em;}#sk-container-id-1 div.sk-estimator:hover {background-color: #d4ebff;}#sk-container-id-1 div.sk-parallel-item::after {content: \"\";width: 100%;border-bottom: 1px solid gray;flex-grow: 1;}#sk-container-id-1 div.sk-label:hover label.sk-toggleable__label {background-color: #d4ebff;}#sk-container-id-1 div.sk-serial::before {content: \"\";position: absolute;border-left: 1px solid gray;box-sizing: border-box;top: 0;bottom: 0;left: 50%;z-index: 0;}#sk-container-id-1 div.sk-serial {display: flex;flex-direction: column;align-items: center;background-color: white;padding-right: 0.2em;padding-left: 0.2em;position: relative;}#sk-container-id-1 div.sk-item {position: relative;z-index: 1;}#sk-container-id-1 div.sk-parallel {display: flex;align-items: stretch;justify-content: center;background-color: white;position: relative;}#sk-container-id-1 div.sk-item::before, #sk-container-id-1 div.sk-parallel-item::before {content: \"\";position: absolute;border-left: 1px solid gray;box-sizing: border-box;top: 0;bottom: 0;left: 50%;z-index: -1;}#sk-container-id-1 div.sk-parallel-item {display: flex;flex-direction: column;z-index: 1;position: relative;background-color: white;}#sk-container-id-1 div.sk-parallel-item:first-child::after {align-self: flex-end;width: 50%;}#sk-container-id-1 div.sk-parallel-item:last-child::after {align-self: flex-start;width: 50%;}#sk-container-id-1 div.sk-parallel-item:only-child::after {width: 0;}#sk-container-id-1 div.sk-dashed-wrapped {border: 1px dashed gray;margin: 0 0.4em 0.5em 0.4em;box-sizing: border-box;padding-bottom: 0.4em;background-color: white;}#sk-container-id-1 div.sk-label label {font-family: monospace;font-weight: bold;display: inline-block;line-height: 1.2em;}#sk-container-id-1 div.sk-label-container {text-align: center;}#sk-container-id-1 div.sk-container {/* jupyter's `normalize.less` sets `[hidden] { display: none; }` but bootstrap.min.css set `[hidden] { display: none !important; }` so we also need the `!important` here to be able to override the default hidden behavior on the sphinx rendered scikit-learn.org. See: https://github.com/scikit-learn/scikit-learn/issues/21755 */display: inline-block !important;position: relative;}#sk-container-id-1 div.sk-text-repr-fallback {display: none;}</style><div id=\"sk-container-id-1\" class=\"sk-top-container\"><div class=\"sk-text-repr-fallback\"><pre>RandomForestClassifier()</pre><b>In a Jupyter environment, please rerun this cell to show the HTML representation or trust the notebook. <br />On GitHub, the HTML representation is unable to render, please try loading this page with nbviewer.org.</b></div><div class=\"sk-container\" hidden><div class=\"sk-item\"><div class=\"sk-estimator sk-toggleable\"><input class=\"sk-toggleable__control sk-hidden--visually\" id=\"sk-estimator-id-1\" type=\"checkbox\" checked><label for=\"sk-estimator-id-1\" class=\"sk-toggleable__label sk-toggleable__label-arrow\">RandomForestClassifier</label><div class=\"sk-toggleable__content\"><pre>RandomForestClassifier()</pre></div></div></div></div></div>"
      ],
      "text/plain": [
       "RandomForestClassifier()"
      ]
     },
     "execution_count": 13,
     "metadata": {},
     "output_type": "execute_result"
    }
   ],
   "source": [
    "rfc = RandomForestClassifier()\n",
    "\n",
    "rfc.fit(X_train, y_train['direction'])"
   ]
  },
  {
   "cell_type": "code",
   "execution_count": 14,
   "id": "13c79735-393d-4249-a15a-19b410da6c9c",
   "metadata": {},
   "outputs": [],
   "source": [
    "y_train_pred = rfc.predict(X_train)\n",
    "y_test_pred  = rfc.predict(X_test)\n",
    "y_val_pred  = rfc.predict(X_val)"
   ]
  },
  {
   "cell_type": "markdown",
   "id": "1a7738c2-9d37-4fb8-b974-2a284312e13b",
   "metadata": {},
   "source": [
    "# Results"
   ]
  },
  {
   "cell_type": "markdown",
   "id": "bd5edb3a-e083-4833-8899-4a89e7406cc9",
   "metadata": {},
   "source": [
    "##  Confusion Matrix Train Set"
   ]
  },
  {
   "cell_type": "code",
   "execution_count": 15,
   "id": "1efbe273-8ece-45fd-a374-2541b4125c94",
   "metadata": {},
   "outputs": [
    {
     "data": {
      "text/plain": [
       "<sklearn.metrics._plot.confusion_matrix.ConfusionMatrixDisplay at 0x17957fff0d0>"
      ]
     },
     "execution_count": 15,
     "metadata": {},
     "output_type": "execute_result"
    },
    {
     "data": {
      "image/png": "[encoded data removed]",
      "text/plain": [
       "<Figure size 640x480 with 2 Axes>"
      ]
     },
     "metadata": {},
     "output_type": "display_data"
    }
   ],
   "source": [
    "cm_train = confusion_matrix(y_train, y_train_pred)\n",
    "cm_train\n",
    "disp = ConfusionMatrixDisplay(cm_train, display_labels=rfc.classes_);\n",
    "disp.plot()"
   ]
  },
  {
   "cell_type": "markdown",
   "id": "99b61d93-849f-4ead-8325-47fb3fe3a3d7",
   "metadata": {},
   "source": [
    "## Confusion Matrix Test Set"
   ]
  },
  {
   "cell_type": "code",
   "execution_count": 16,
   "id": "6db61c6f-e7a0-48c6-89fb-e9a5abf49097",
   "metadata": {},
   "outputs": [
    {
     "name": "stdout",
     "output_type": "stream",
     "text": [
      "[[500 117]\n",
      " [515 144]]\n"
     ]
    },
    {
     "data": {
      "text/plain": [
       "<sklearn.metrics._plot.confusion_matrix.ConfusionMatrixDisplay at 0x179581ce710>"
      ]
     },
     "execution_count": 16,
     "metadata": {},
     "output_type": "execute_result"
    },
    {
     "data": {
      "image/png": "[encoded data removed]",
      "text/plain": [
       "<Figure size 640x480 with 2 Axes>"
      ]
     },
     "metadata": {},
     "output_type": "display_data"
    }
   ],
   "source": [
    "cm_test = confusion_matrix(y_test, y_test_pred)\n",
    "print(cm_test)\n",
    "disp = ConfusionMatrixDisplay(cm_test,display_labels=rfc.classes_);\n",
    "disp.plot()"
   ]
  },
  {
   "cell_type": "markdown",
   "id": "643b7ac1-9db6-4a07-9260-e5c492bb49e0",
   "metadata": {},
   "source": [
    "## Confusion Matrix Validation Set"
   ]
  },
  {
   "cell_type": "code",
   "execution_count": 17,
   "id": "1c6bb947-aa92-4b07-acce-293230f8670f",
   "metadata": {},
   "outputs": [
    {
     "name": "stdout",
     "output_type": "stream",
     "text": [
      "[[742 114]\n",
      " [866 101]]\n"
     ]
    },
    {
     "data": {
      "text/plain": [
       "<sklearn.metrics._plot.confusion_matrix.ConfusionMatrixDisplay at 0x179589d7910>"
      ]
     },
     "execution_count": 17,
     "metadata": {},
     "output_type": "execute_result"
    },
    {
     "data": {
      "image/png": "[encoded data removed]",
      "text/plain": [
       "<Figure size 640x480 with 2 Axes>"
      ]
     },
     "metadata": {},
     "output_type": "display_data"
    }
   ],
   "source": [
    "cm_test = confusion_matrix(y_val, y_val_pred)\n",
    "print(cm_test)\n",
    "disp = ConfusionMatrixDisplay(cm_test,display_labels=rfc.classes_);\n",
    "disp.plot()"
   ]
  },
  {
   "cell_type": "markdown",
   "id": "47576bdd-8349-451c-b69e-bdaa7db396b6",
   "metadata": {},
   "source": [
    "## Error Matrix"
   ]
  },
  {
   "cell_type": "code",
   "execution_count": 18,
   "id": "9fb7801a-0a58-4acc-b1ea-81f575ad5228",
   "metadata": {},
   "outputs": [],
   "source": [
    "error_metric = pd.DataFrame({\"Train\":[accuracy_score(y_train, y_train_pred),f1_score(y_train,y_train_pred),\n",
    "                                recall_score(y_train,y_train_pred),precision_score(y_train, y_train_pred),\n",
    "                                cohen_kappa_score(y_train, y_train_pred)],\n",
    "                                \"Test\":[accuracy_score(y_test, y_test_pred),f1_score(y_test,y_test_pred),\n",
    "                                recall_score(y_test,  y_test_pred),precision_score(y_test, y_test_pred),\n",
    "                                cohen_kappa_score(y_test, y_test_pred)],\n",
    "                                \"Val\":[accuracy_score(y_val, y_val_pred),f1_score(y_val,y_val_pred),\n",
    "                                recall_score(y_val,  y_val_pred),precision_score(y_val, y_val_pred),\n",
    "                                cohen_kappa_score(y_val, y_val_pred)]},\n",
    "                                index=[\"accuracy\",\"F1\",\"recall\",\"precission\",\"kappa\"])"
   ]
  },
  {
   "cell_type": "code",
   "execution_count": 19,
   "id": "1bbf0695-1d77-4b6d-b9cf-5af5bbd7ab7f",
   "metadata": {},
   "outputs": [
    {
     "data": {
      "text/html": [
       "<div>\n",
       "<style scoped>\n",
       "    .dataframe tbody tr th:only-of-type {\n",
       "        vertical-align: middle;\n",
       "    }\n",
       "\n",
       "    .dataframe tbody tr th {\n",
       "        vertical-align: top;\n",
       "    }\n",
       "\n",
       "    .dataframe thead th {\n",
       "        text-align: right;\n",
       "    }\n",
       "</style>\n",
       "<table border=\"1\" class=\"dataframe\">\n",
       "  <thead>\n",
       "    <tr style=\"text-align: right;\">\n",
       "      <th></th>\n",
       "      <th>Train</th>\n",
       "      <th>Test</th>\n",
       "      <th>Val</th>\n",
       "    </tr>\n",
       "  </thead>\n",
       "  <tbody>\n",
       "    <tr>\n",
       "      <th>accuracy</th>\n",
       "      <td>1.0</td>\n",
       "      <td>0.504702</td>\n",
       "      <td>0.462425</td>\n",
       "    </tr>\n",
       "    <tr>\n",
       "      <th>F1</th>\n",
       "      <td>1.0</td>\n",
       "      <td>0.313043</td>\n",
       "      <td>0.170897</td>\n",
       "    </tr>\n",
       "    <tr>\n",
       "      <th>recall</th>\n",
       "      <td>1.0</td>\n",
       "      <td>0.218513</td>\n",
       "      <td>0.104447</td>\n",
       "    </tr>\n",
       "    <tr>\n",
       "      <th>precission</th>\n",
       "      <td>1.0</td>\n",
       "      <td>0.551724</td>\n",
       "      <td>0.469767</td>\n",
       "    </tr>\n",
       "    <tr>\n",
       "      <th>kappa</th>\n",
       "      <td>1.0</td>\n",
       "      <td>0.028304</td>\n",
       "      <td>-0.027352</td>\n",
       "    </tr>\n",
       "  </tbody>\n",
       "</table>\n",
       "</div>"
      ],
      "text/plain": [
       "            Train      Test       Val\n",
       "accuracy      1.0  0.504702  0.462425\n",
       "F1            1.0  0.313043  0.170897\n",
       "recall        1.0  0.218513  0.104447\n",
       "precission    1.0  0.551724  0.469767\n",
       "kappa         1.0  0.028304 -0.027352"
      ]
     },
     "execution_count": 19,
     "metadata": {},
     "output_type": "execute_result"
    }
   ],
   "source": [
    "error_metric"
   ]
  },
  {
   "cell_type": "markdown",
   "id": "31b5f97e-a0de-4cea-aaf6-c106459ad103",
   "metadata": {},
   "source": [
    "# Grid Search CV"
   ]
  },
  {
   "cell_type": "code",
   "execution_count": 20,
   "id": "4f07b58a-8e1d-44bf-9707-1a7f61e8d742",
   "metadata": {},
   "outputs": [],
   "source": [
    "from sklearn.model_selection import GridSearchCV"
   ]
  },
  {
   "cell_type": "code",
   "execution_count": 21,
   "id": "2dc5c50d-6b01-41aa-9348-fe024f3f94ff",
   "metadata": {},
   "outputs": [],
   "source": [
    "grid = {'n_estimators': [50,100,150,200,250],\n",
    "        'max_depth': [10,20,30,40],\n",
    "        'min_samples_split': [2,10,20,30],\n",
    "        'min_samples_leaf': [1,10,20]}"
   ]
  },
  {
   "cell_type": "code",
   "execution_count": 22,
   "id": "66bdcab3-0d04-432d-a65e-1d190364f036",
   "metadata": {},
   "outputs": [],
   "source": [
    "grid_search = GridSearchCV(estimator = rfc, param_grid = grid, cv = 5, n_jobs=-1, verbose=1)"
   ]
  },
  {
   "cell_type": "code",
   "execution_count": 23,
   "id": "1f042cf6-9c29-4154-a73a-029a811b87c3",
   "metadata": {},
   "outputs": [
    {
     "name": "stdout",
     "output_type": "stream",
     "text": [
      "Fitting 5 folds for each of 240 candidates, totalling 1200 fits\n"
     ]
    },
    {
     "data": {
      "text/html": [
       "<style>#sk-container-id-2 {color: black;}#sk-container-id-2 pre{padding: 0;}#sk-container-id-2 div.sk-toggleable {background-color: white;}#sk-container-id-2 label.sk-toggleable__label {cursor: pointer;display: block;width: 100%;margin-bottom: 0;padding: 0.3em;box-sizing: border-box;text-align: center;}#sk-container-id-2 label.sk-toggleable__label-arrow:before {content: \"▸\";float: left;margin-right: 0.25em;color: #696969;}#sk-container-id-2 label.sk-toggleable__label-arrow:hover:before {color: black;}#sk-container-id-2 div.sk-estimator:hover label.sk-toggleable__label-arrow:before {color: black;}#sk-container-id-2 div.sk-toggleable__content {max-height: 0;max-width: 0;overflow: hidden;text-align: left;background-color: #f0f8ff;}#sk-container-id-2 div.sk-toggleable__content pre {margin: 0.2em;color: black;border-radius: 0.25em;background-color: #f0f8ff;}#sk-container-id-2 input.sk-toggleable__control:checked~div.sk-toggleable__content {max-height: 200px;max-width: 100%;overflow: auto;}#sk-container-id-2 input.sk-toggleable__control:checked~label.sk-toggleable__label-arrow:before {content: \"▾\";}#sk-container-id-2 div.sk-estimator input.sk-toggleable__control:checked~label.sk-toggleable__label {background-color: #d4ebff;}#sk-container-id-2 div.sk-label input.sk-toggleable__control:checked~label.sk-toggleable__label {background-color: #d4ebff;}#sk-container-id-2 input.sk-hidden--visually {border: 0;clip: rect(1px 1px 1px 1px);clip: rect(1px, 1px, 1px, 1px);height: 1px;margin: -1px;overflow: hidden;padding: 0;position: absolute;width: 1px;}#sk-container-id-2 div.sk-estimator {font-family: monospace;background-color: #f0f8ff;border: 1px dotted black;border-radius: 0.25em;box-sizing: border-box;margin-bottom: 0.5em;}#sk-container-id-2 div.sk-estimator:hover {background-color: #d4ebff;}#sk-container-id-2 div.sk-parallel-item::after {content: \"\";width: 100%;border-bottom: 1px solid gray;flex-grow: 1;}#sk-container-id-2 div.sk-label:hover label.sk-toggleable__label {background-color: #d4ebff;}#sk-container-id-2 div.sk-serial::before {content: \"\";position: absolute;border-left: 1px solid gray;box-sizing: border-box;top: 0;bottom: 0;left: 50%;z-index: 0;}#sk-container-id-2 div.sk-serial {display: flex;flex-direction: column;align-items: center;background-color: white;padding-right: 0.2em;padding-left: 0.2em;position: relative;}#sk-container-id-2 div.sk-item {position: relative;z-index: 1;}#sk-container-id-2 div.sk-parallel {display: flex;align-items: stretch;justify-content: center;background-color: white;position: relative;}#sk-container-id-2 div.sk-item::before, #sk-container-id-2 div.sk-parallel-item::before {content: \"\";position: absolute;border-left: 1px solid gray;box-sizing: border-box;top: 0;bottom: 0;left: 50%;z-index: -1;}#sk-container-id-2 div.sk-parallel-item {display: flex;flex-direction: column;z-index: 1;position: relative;background-color: white;}#sk-container-id-2 div.sk-parallel-item:first-child::after {align-self: flex-end;width: 50%;}#sk-container-id-2 div.sk-parallel-item:last-child::after {align-self: flex-start;width: 50%;}#sk-container-id-2 div.sk-parallel-item:only-child::after {width: 0;}#sk-container-id-2 div.sk-dashed-wrapped {border: 1px dashed gray;margin: 0 0.4em 0.5em 0.4em;box-sizing: border-box;padding-bottom: 0.4em;background-color: white;}#sk-container-id-2 div.sk-label label {font-family: monospace;font-weight: bold;display: inline-block;line-height: 1.2em;}#sk-container-id-2 div.sk-label-container {text-align: center;}#sk-container-id-2 div.sk-container {/* jupyter's `normalize.less` sets `[hidden] { display: none; }` but bootstrap.min.css set `[hidden] { display: none !important; }` so we also need the `!important` here to be able to override the default hidden behavior on the sphinx rendered scikit-learn.org. See: https://github.com/scikit-learn/scikit-learn/issues/21755 */display: inline-block !important;position: relative;}#sk-container-id-2 div.sk-text-repr-fallback {display: none;}</style><div id=\"sk-container-id-2\" class=\"sk-top-container\"><div class=\"sk-text-repr-fallback\"><pre>GridSearchCV(cv=5, estimator=RandomForestClassifier(), n_jobs=-1,\n",
       "             param_grid={&#x27;max_depth&#x27;: [10, 20, 30, 40],\n",
       "                         &#x27;min_samples_leaf&#x27;: [1, 10, 20],\n",
       "                         &#x27;min_samples_split&#x27;: [2, 10, 20, 30],\n",
       "                         &#x27;n_estimators&#x27;: [50, 100, 150, 200, 250]},\n",
       "             verbose=1)</pre><b>In a Jupyter environment, please rerun this cell to show the HTML representation or trust the notebook. <br />On GitHub, the HTML representation is unable to render, please try loading this page with nbviewer.org.</b></div><div class=\"sk-container\" hidden><div class=\"sk-item sk-dashed-wrapped\"><div class=\"sk-label-container\"><div class=\"sk-label sk-toggleable\"><input class=\"sk-toggleable__control sk-hidden--visually\" id=\"sk-estimator-id-2\" type=\"checkbox\" ><label for=\"sk-estimator-id-2\" class=\"sk-toggleable__label sk-toggleable__label-arrow\">GridSearchCV</label><div class=\"sk-toggleable__content\"><pre>GridSearchCV(cv=5, estimator=RandomForestClassifier(), n_jobs=-1,\n",
       "             param_grid={&#x27;max_depth&#x27;: [10, 20, 30, 40],\n",
       "                         &#x27;min_samples_leaf&#x27;: [1, 10, 20],\n",
       "                         &#x27;min_samples_split&#x27;: [2, 10, 20, 30],\n",
       "                         &#x27;n_estimators&#x27;: [50, 100, 150, 200, 250]},\n",
       "             verbose=1)</pre></div></div></div><div class=\"sk-parallel\"><div class=\"sk-parallel-item\"><div class=\"sk-item\"><div class=\"sk-label-container\"><div class=\"sk-label sk-toggleable\"><input class=\"sk-toggleable__control sk-hidden--visually\" id=\"sk-estimator-id-3\" type=\"checkbox\" ><label for=\"sk-estimator-id-3\" class=\"sk-toggleable__label sk-toggleable__label-arrow\">estimator: RandomForestClassifier</label><div class=\"sk-toggleable__content\"><pre>RandomForestClassifier()</pre></div></div></div><div class=\"sk-serial\"><div class=\"sk-item\"><div class=\"sk-estimator sk-toggleable\"><input class=\"sk-toggleable__control sk-hidden--visually\" id=\"sk-estimator-id-4\" type=\"checkbox\" ><label for=\"sk-estimator-id-4\" class=\"sk-toggleable__label sk-toggleable__label-arrow\">RandomForestClassifier</label><div class=\"sk-toggleable__content\"><pre>RandomForestClassifier()</pre></div></div></div></div></div></div></div></div></div></div>"
      ],
      "text/plain": [
       "GridSearchCV(cv=5, estimator=RandomForestClassifier(), n_jobs=-1,\n",
       "             param_grid={'max_depth': [10, 20, 30, 40],\n",
       "                         'min_samples_leaf': [1, 10, 20],\n",
       "                         'min_samples_split': [2, 10, 20, 30],\n",
       "                         'n_estimators': [50, 100, 150, 200, 250]},\n",
       "             verbose=1)"
      ]
     },
     "execution_count": 23,
     "metadata": {},
     "output_type": "execute_result"
    }
   ],
   "source": [
    "grid_search.fit(X_train, y_train['direction'])"
   ]
  },
  {
   "cell_type": "code",
   "execution_count": 24,
   "id": "925cc74f-1e0a-4ae9-976f-6dd863965435",
   "metadata": {},
   "outputs": [
    {
     "data": {
      "text/plain": [
       "{'max_depth': 40,\n",
       " 'min_samples_leaf': 1,\n",
       " 'min_samples_split': 10,\n",
       " 'n_estimators': 50}"
      ]
     },
     "execution_count": 24,
     "metadata": {},
     "output_type": "execute_result"
    }
   ],
   "source": [
    "grid_search.best_params_"
   ]
  },
  {
   "cell_type": "code",
   "execution_count": 25,
   "id": "2260dad2-84fc-4f16-a582-c7932b9b4a35",
   "metadata": {},
   "outputs": [
    {
     "data": {
      "text/plain": [
       "0.5219435736677116"
      ]
     },
     "execution_count": 25,
     "metadata": {},
     "output_type": "execute_result"
    }
   ],
   "source": [
    "grid_search.best_estimator_.score(X_test, y_test)"
   ]
  },
  {
   "cell_type": "markdown",
   "id": "b3623f04-e886-4865-b96c-fae8fb099e5f",
   "metadata": {},
   "source": [
    "# Cross Validation"
   ]
  },
  {
   "cell_type": "code",
   "execution_count": 26,
   "id": "0d9af543-5956-4f0c-b2b4-be3d1f5ce6ec",
   "metadata": {},
   "outputs": [
    {
     "data": {
      "text/html": [
       "<style>#sk-container-id-3 {color: black;}#sk-container-id-3 pre{padding: 0;}#sk-container-id-3 div.sk-toggleable {background-color: white;}#sk-container-id-3 label.sk-toggleable__label {cursor: pointer;display: block;width: 100%;margin-bottom: 0;padding: 0.3em;box-sizing: border-box;text-align: center;}#sk-container-id-3 label.sk-toggleable__label-arrow:before {content: \"▸\";float: left;margin-right: 0.25em;color: #696969;}#sk-container-id-3 label.sk-toggleable__label-arrow:hover:before {color: black;}#sk-container-id-3 div.sk-estimator:hover label.sk-toggleable__label-arrow:before {color: black;}#sk-container-id-3 div.sk-toggleable__content {max-height: 0;max-width: 0;overflow: hidden;text-align: left;background-color: #f0f8ff;}#sk-container-id-3 div.sk-toggleable__content pre {margin: 0.2em;color: black;border-radius: 0.25em;background-color: #f0f8ff;}#sk-container-id-3 input.sk-toggleable__control:checked~div.sk-toggleable__content {max-height: 200px;max-width: 100%;overflow: auto;}#sk-container-id-3 input.sk-toggleable__control:checked~label.sk-toggleable__label-arrow:before {content: \"▾\";}#sk-container-id-3 div.sk-estimator input.sk-toggleable__control:checked~label.sk-toggleable__label {background-color: #d4ebff;}#sk-container-id-3 div.sk-label input.sk-toggleable__control:checked~label.sk-toggleable__label {background-color: #d4ebff;}#sk-container-id-3 input.sk-hidden--visually {border: 0;clip: rect(1px 1px 1px 1px);clip: rect(1px, 1px, 1px, 1px);height: 1px;margin: -1px;overflow: hidden;padding: 0;position: absolute;width: 1px;}#sk-container-id-3 div.sk-estimator {font-family: monospace;background-color: #f0f8ff;border: 1px dotted black;border-radius: 0.25em;box-sizing: border-box;margin-bottom: 0.5em;}#sk-container-id-3 div.sk-estimator:hover {background-color: #d4ebff;}#sk-container-id-3 div.sk-parallel-item::after {content: \"\";width: 100%;border-bottom: 1px solid gray;flex-grow: 1;}#sk-container-id-3 div.sk-label:hover label.sk-toggleable__label {background-color: #d4ebff;}#sk-container-id-3 div.sk-serial::before {content: \"\";position: absolute;border-left: 1px solid gray;box-sizing: border-box;top: 0;bottom: 0;left: 50%;z-index: 0;}#sk-container-id-3 div.sk-serial {display: flex;flex-direction: column;align-items: center;background-color: white;padding-right: 0.2em;padding-left: 0.2em;position: relative;}#sk-container-id-3 div.sk-item {position: relative;z-index: 1;}#sk-container-id-3 div.sk-parallel {display: flex;align-items: stretch;justify-content: center;background-color: white;position: relative;}#sk-container-id-3 div.sk-item::before, #sk-container-id-3 div.sk-parallel-item::before {content: \"\";position: absolute;border-left: 1px solid gray;box-sizing: border-box;top: 0;bottom: 0;left: 50%;z-index: -1;}#sk-container-id-3 div.sk-parallel-item {display: flex;flex-direction: column;z-index: 1;position: relative;background-color: white;}#sk-container-id-3 div.sk-parallel-item:first-child::after {align-self: flex-end;width: 50%;}#sk-container-id-3 div.sk-parallel-item:last-child::after {align-self: flex-start;width: 50%;}#sk-container-id-3 div.sk-parallel-item:only-child::after {width: 0;}#sk-container-id-3 div.sk-dashed-wrapped {border: 1px dashed gray;margin: 0 0.4em 0.5em 0.4em;box-sizing: border-box;padding-bottom: 0.4em;background-color: white;}#sk-container-id-3 div.sk-label label {font-family: monospace;font-weight: bold;display: inline-block;line-height: 1.2em;}#sk-container-id-3 div.sk-label-container {text-align: center;}#sk-container-id-3 div.sk-container {/* jupyter's `normalize.less` sets `[hidden] { display: none; }` but bootstrap.min.css set `[hidden] { display: none !important; }` so we also need the `!important` here to be able to override the default hidden behavior on the sphinx rendered scikit-learn.org. See: https://github.com/scikit-learn/scikit-learn/issues/21755 */display: inline-block !important;position: relative;}#sk-container-id-3 div.sk-text-repr-fallback {display: none;}</style><div id=\"sk-container-id-3\" class=\"sk-top-container\"><div class=\"sk-text-repr-fallback\"><pre>RandomForestClassifier(max_depth=40, min_samples_split=10, n_estimators=50)</pre><b>In a Jupyter environment, please rerun this cell to show the HTML representation or trust the notebook. <br />On GitHub, the HTML representation is unable to render, please try loading this page with nbviewer.org.</b></div><div class=\"sk-container\" hidden><div class=\"sk-item\"><div class=\"sk-estimator sk-toggleable\"><input class=\"sk-toggleable__control sk-hidden--visually\" id=\"sk-estimator-id-5\" type=\"checkbox\" checked><label for=\"sk-estimator-id-5\" class=\"sk-toggleable__label sk-toggleable__label-arrow\">RandomForestClassifier</label><div class=\"sk-toggleable__content\"><pre>RandomForestClassifier(max_depth=40, min_samples_split=10, n_estimators=50)</pre></div></div></div></div></div>"
      ],
      "text/plain": [
       "RandomForestClassifier(max_depth=40, min_samples_split=10, n_estimators=50)"
      ]
     },
     "execution_count": 26,
     "metadata": {},
     "output_type": "execute_result"
    }
   ],
   "source": [
    "rfc_gridsearch = RandomForestClassifier(**grid_search.best_params_)\n",
    "\n",
    "rfc_gridsearch.fit(X_train, y_train['direction'])"
   ]
  },
  {
   "cell_type": "code",
   "execution_count": 27,
   "id": "de0266ae-d864-4178-a485-84318a9faf21",
   "metadata": {},
   "outputs": [
    {
     "name": "stderr",
     "output_type": "stream",
     "text": [
      "[Parallel(n_jobs=-1)]: Using backend LokyBackend with 20 concurrent workers.\n",
      "[Parallel(n_jobs=-1)]: Done   4 out of  10 | elapsed:    2.1s remaining:    3.2s\n",
      "[Parallel(n_jobs=-1)]: Done  10 out of  10 | elapsed:    2.4s finished\n"
     ]
    }
   ],
   "source": [
    "from sklearn.model_selection import cross_validate\n",
    "results = cross_validate(rfc_gridsearch, X_train, y_train['direction'], cv = 10, n_jobs=-1, verbose=1)"
   ]
  },
  {
   "cell_type": "code",
   "execution_count": 28,
   "id": "25aab6ac-c885-4c7c-b8e7-1a2fd98d4868",
   "metadata": {},
   "outputs": [
    {
     "data": {
      "text/plain": [
       "0.4311956251553567"
      ]
     },
     "execution_count": 28,
     "metadata": {},
     "output_type": "execute_result"
    }
   ],
   "source": [
    "results['test_score'].mean()"
   ]
  },
  {
   "cell_type": "code",
   "execution_count": 29,
   "id": "79ed0294-305a-4b9b-886b-df1da2662968",
   "metadata": {},
   "outputs": [
    {
     "data": {
      "text/html": [
       "<div>\n",
       "<style scoped>\n",
       "    .dataframe tbody tr th:only-of-type {\n",
       "        vertical-align: middle;\n",
       "    }\n",
       "\n",
       "    .dataframe tbody tr th {\n",
       "        vertical-align: top;\n",
       "    }\n",
       "\n",
       "    .dataframe thead th {\n",
       "        text-align: right;\n",
       "    }\n",
       "</style>\n",
       "<table border=\"1\" class=\"dataframe\">\n",
       "  <thead>\n",
       "    <tr style=\"text-align: right;\">\n",
       "      <th></th>\n",
       "      <th>name</th>\n",
       "      <th>importances</th>\n",
       "    </tr>\n",
       "  </thead>\n",
       "  <tbody>\n",
       "    <tr>\n",
       "      <th>0</th>\n",
       "      <td>volume</td>\n",
       "      <td>0.037198</td>\n",
       "    </tr>\n",
       "    <tr>\n",
       "      <th>17</th>\n",
       "      <td>BBP_3_2.0</td>\n",
       "      <td>0.036667</td>\n",
       "    </tr>\n",
       "    <tr>\n",
       "      <th>16</th>\n",
       "      <td>BBB_3_2.0</td>\n",
       "      <td>0.034303</td>\n",
       "    </tr>\n",
       "    <tr>\n",
       "      <th>10</th>\n",
       "      <td>rsi_3</td>\n",
       "      <td>0.032316</td>\n",
       "    </tr>\n",
       "    <tr>\n",
       "      <th>26</th>\n",
       "      <td>BBB_14_2.0</td>\n",
       "      <td>0.031171</td>\n",
       "    </tr>\n",
       "    <tr>\n",
       "      <th>22</th>\n",
       "      <td>BBP_7_2.0</td>\n",
       "      <td>0.030904</td>\n",
       "    </tr>\n",
       "    <tr>\n",
       "      <th>21</th>\n",
       "      <td>BBB_7_2.0</td>\n",
       "      <td>0.030472</td>\n",
       "    </tr>\n",
       "    <tr>\n",
       "      <th>27</th>\n",
       "      <td>BBP_14_2.0</td>\n",
       "      <td>0.030239</td>\n",
       "    </tr>\n",
       "    <tr>\n",
       "      <th>34</th>\n",
       "      <td>cmf_7</td>\n",
       "      <td>0.030168</td>\n",
       "    </tr>\n",
       "    <tr>\n",
       "      <th>33</th>\n",
       "      <td>cmf_3</td>\n",
       "      <td>0.030093</td>\n",
       "    </tr>\n",
       "  </tbody>\n",
       "</table>\n",
       "</div>"
      ],
      "text/plain": [
       "          name  importances\n",
       "0       volume     0.037198\n",
       "17   BBP_3_2.0     0.036667\n",
       "16   BBB_3_2.0     0.034303\n",
       "10       rsi_3     0.032316\n",
       "26  BBB_14_2.0     0.031171\n",
       "22   BBP_7_2.0     0.030904\n",
       "21   BBB_7_2.0     0.030472\n",
       "27  BBP_14_2.0     0.030239\n",
       "34       cmf_7     0.030168\n",
       "33       cmf_3     0.030093"
      ]
     },
     "execution_count": 29,
     "metadata": {},
     "output_type": "execute_result"
    }
   ],
   "source": [
    "imp = rfc_gridsearch.feature_importances_.tolist()\n",
    "name = rfc_gridsearch.feature_names_in_.tolist()\n",
    "pd.DataFrame({'name':name,'importances':imp}).sort_values('importances', ascending=False).head(10)"
   ]
  },
  {
   "cell_type": "markdown",
   "id": "676c3d04-def1-4518-9423-ad6923df4de2",
   "metadata": {},
   "source": [
    "# Error Matrix"
   ]
  },
  {
   "cell_type": "code",
   "execution_count": 30,
   "id": "2fb146b0-b888-4c90-8b5b-37b366d9efc6",
   "metadata": {},
   "outputs": [],
   "source": [
    "y_train_pred = rfc_gridsearch.predict(X_train)\n",
    "y_test_pred  = rfc_gridsearch.predict(X_test)\n",
    "y_val_pred  = rfc_gridsearch.predict(X_val)"
   ]
  },
  {
   "cell_type": "code",
   "execution_count": 31,
   "id": "ddccf5dd-e972-4de6-8492-6f59de771ac2",
   "metadata": {},
   "outputs": [],
   "source": [
    "error_metric = pd.DataFrame({\"Train\":[accuracy_score(y_train, y_train_pred),f1_score(y_train,y_train_pred),\n",
    "                                recall_score(y_train,y_train_pred),precision_score(y_train, y_train_pred),\n",
    "                                cohen_kappa_score(y_train, y_train_pred)],\n",
    "                                \"Test\":[accuracy_score(y_test, y_test_pred),f1_score(y_test,y_test_pred),\n",
    "                                recall_score(y_test,  y_test_pred),precision_score(y_test, y_test_pred),\n",
    "                                cohen_kappa_score(y_test, y_test_pred)],\n",
    "                                \"Val\":[accuracy_score(y_val, y_val_pred),f1_score(y_val,y_val_pred),\n",
    "                                recall_score(y_val,  y_val_pred),precision_score(y_val, y_val_pred),\n",
    "                                cohen_kappa_score(y_val, y_val_pred)]},\n",
    "                                index=[\"accuracy\",\"F1\",\"recall\",\"precission\",\"kappa\"])"
   ]
  },
  {
   "cell_type": "code",
   "execution_count": 32,
   "id": "8a507a02-8fba-4fa0-930a-88ade0c9b6be",
   "metadata": {},
   "outputs": [
    {
     "data": {
      "text/html": [
       "<div>\n",
       "<style scoped>\n",
       "    .dataframe tbody tr th:only-of-type {\n",
       "        vertical-align: middle;\n",
       "    }\n",
       "\n",
       "    .dataframe tbody tr th {\n",
       "        vertical-align: top;\n",
       "    }\n",
       "\n",
       "    .dataframe thead th {\n",
       "        text-align: right;\n",
       "    }\n",
       "</style>\n",
       "<table border=\"1\" class=\"dataframe\">\n",
       "  <thead>\n",
       "    <tr style=\"text-align: right;\">\n",
       "      <th></th>\n",
       "      <th>Train</th>\n",
       "      <th>Test</th>\n",
       "      <th>Val</th>\n",
       "    </tr>\n",
       "  </thead>\n",
       "  <tbody>\n",
       "    <tr>\n",
       "      <th>accuracy</th>\n",
       "      <td>0.994288</td>\n",
       "      <td>0.502351</td>\n",
       "      <td>0.466813</td>\n",
       "    </tr>\n",
       "    <tr>\n",
       "      <th>F1</th>\n",
       "      <td>0.994511</td>\n",
       "      <td>0.355330</td>\n",
       "      <td>0.196694</td>\n",
       "    </tr>\n",
       "    <tr>\n",
       "      <th>recall</th>\n",
       "      <td>0.996764</td>\n",
       "      <td>0.265554</td>\n",
       "      <td>0.123061</td>\n",
       "    </tr>\n",
       "    <tr>\n",
       "      <th>precission</th>\n",
       "      <td>0.992268</td>\n",
       "      <td>0.536810</td>\n",
       "      <td>0.489712</td>\n",
       "    </tr>\n",
       "    <tr>\n",
       "      <th>kappa</th>\n",
       "      <td>0.988556</td>\n",
       "      <td>0.020469</td>\n",
       "      <td>-0.020790</td>\n",
       "    </tr>\n",
       "  </tbody>\n",
       "</table>\n",
       "</div>"
      ],
      "text/plain": [
       "               Train      Test       Val\n",
       "accuracy    0.994288  0.502351  0.466813\n",
       "F1          0.994511  0.355330  0.196694\n",
       "recall      0.996764  0.265554  0.123061\n",
       "precission  0.992268  0.536810  0.489712\n",
       "kappa       0.988556  0.020469 -0.020790"
      ]
     },
     "execution_count": 32,
     "metadata": {},
     "output_type": "execute_result"
    }
   ],
   "source": [
    "error_metric"
   ]
  },
  {
   "cell_type": "markdown",
   "id": "ee300694-1f6b-4149-9137-b45e98a5e038",
   "metadata": {},
   "source": [
    "# Export"
   ]
  },
  {
   "cell_type": "code",
   "execution_count": 33,
   "id": "085475b9-2d25-430a-9f5f-91184c8d5fc1",
   "metadata": {},
   "outputs": [],
   "source": [
    "today = date.today()\n",
    "model_name = 'random_forest'\n",
    "description = 'with_feature_selection_with_GridSearch'"
   ]
  },
  {
   "cell_type": "code",
   "execution_count": 34,
   "id": "a909f0bf-6b5a-4c92-95b2-9c427d621354",
   "metadata": {},
   "outputs": [],
   "source": [
    "error_metric.to_csv('../data/results/error_metric_{}_{}_{}.csv'.format(model_name,description,today))"
   ]
  },
  {
   "cell_type": "code",
   "execution_count": null,
   "id": "0512548c-c243-4a3e-b00d-7757ad7ebe55",
   "metadata": {},
   "outputs": [],
   "source": []
  },
  {
   "cell_type": "code",
   "execution_count": null,
   "id": "9f6187c9-4cf2-4713-bc97-40692eb8c9e0",
   "metadata": {},
   "outputs": [],
   "source": []
  }
 ],
 "metadata": {
  "kernelspec": {
   "display_name": "proj_env",
   "language": "python",
   "name": "proj_env"
  },
  "language_info": {
   "codemirror_mode": {
    "name": "ipython",
    "version": 3
   },
   "file_extension": ".py",
   "mimetype": "text/x-python",
   "name": "python",
   "nbconvert_exporter": "python",
   "pygments_lexer": "ipython3",
   "version": "3.11.5"
  }
 },
 "nbformat": 4,
 "nbformat_minor": 5
}
